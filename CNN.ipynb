{
 "cells": [
  {
   "cell_type": "code",
   "execution_count": 11,
   "id": "1f3065e2",
   "metadata": {},
   "outputs": [],
   "source": [
    "import numpy as np\n",
    "import pandas as pd\n",
    "import matplotlib.pyplot as plt\n",
    "%matplotlib inline\n",
    "\n",
    "import tensorflow as tf\n",
    "from tensorflow import keras\n",
    "from tensorflow.keras.layers import Conv1D, Dense, Embedding,GlobalMaxPooling1D, Dropout\n",
    "from tensorflow.keras.models import Sequential\n",
    "from tensorflow.keras.preprocessing.sequence import pad_sequences\n",
    "from sklearn.model_selection import train_test_split, KFold\n",
    "from sklearn.metrics import classification_report, confusion_matrix\n",
    "\n"
   ]
  },
  {
   "cell_type": "code",
   "execution_count": 12,
   "id": "98e1b306",
   "metadata": {},
   "outputs": [],
   "source": [
    "df = pd.read_csv('cleaned-data.csv')"
   ]
  },
  {
   "cell_type": "code",
   "execution_count": 13,
   "id": "c52d4e6f",
   "metadata": {},
   "outputs": [],
   "source": [
    "indexNames = []\n",
    "for index, row in df.iterrows():\n",
    "    if len(row.Genres.split(\"; \"))>1:\n",
    "        indexNames.append(index)\n",
    "df = df.drop(indexNames)"
   ]
  },
  {
   "cell_type": "code",
   "execution_count": 14,
   "id": "df6a59c4",
   "metadata": {},
   "outputs": [],
   "source": [
    "x = np.array(df['Lyric']) #\"text\"\n",
    "y = np.array(df['Genres'])"
   ]
  },
  {
   "cell_type": "code",
   "execution_count": 22,
   "id": "12484204",
   "metadata": {},
   "outputs": [
    {
     "name": "stdout",
     "output_type": "stream",
     "text": [
      "{'Dance', 'Blues', 'New Wave', 'Tecnopop', 'Punk Rock', 'Pop', 'Rock', 'Country', 'Gospel/Religioso', 'Folk', 'R&B', 'Rock Alternativo', 'Romântico', 'Rockabilly', 'Hip Hop', 'Pop/Rock', 'Electronica', 'Jazz', 'Progressivo', 'Pós-Punk', 'Reggae', 'Hardcore', 'Black Music', 'Trilha Sonora', 'Gótico', 'Hard Rock', 'Pop/Punk', 'Soul Music', 'Heavy Metal', 'Rap', 'Soft Rock', 'Indie'}\n",
      "32\n"
     ]
    },
    {
     "data": {
      "image/png": "[encoded data removed]",
      "text/plain": [
       "<Figure size 432x288 with 1 Axes>"
      ]
     },
     "metadata": {
      "needs_background": "light"
     },
     "output_type": "display_data"
    }
   ],
   "source": [
    "df['Genres'].value_counts().plot.bar()\n",
    "print(set(df[\"Genres\"]))\n",
    "genres = set(df[\"Genres\"])\n",
    "loss_weights = len(set(df[\"Genres\"]))\n",
    "print(loss_weights)"
   ]
  },
  {
   "cell_type": "code",
   "execution_count": 16,
   "id": "3f9492ad",
   "metadata": {
    "scrolled": true
   },
   "outputs": [
    {
     "name": "stdout",
     "output_type": "stream",
     "text": [
      "[ 3 22 21 ...  0  0 13]\n"
     ]
    }
   ],
   "source": [
    "# tokenizer to transform text into tokens\n",
    "tokenizer = tf.keras.preprocessing.text.Tokenizer(\n",
    "    num_words=200000,\n",
    "    filters='!\"#$%&()*+,-./:;<=>?@[\\\\]^_`{|}~\\t\\n',\n",
    "    lower=True, split=' ', char_level=False, oov_token=None,\n",
    "    #document_count=0, **kwargs\n",
    ")\n",
    "\n",
    "# Updates internal vocabulary based on a list of texts.\n",
    "tokenizer.fit_on_texts(x)\n",
    "\n",
    "#Transforms each text in x to a sequence of integers.\n",
    "x = tokenizer.texts_to_sequences(x)\n",
    "\n",
    "#Pads sequences to the same length. In this case, with maxlen of 100 integers\n",
    "x = pad_sequences(x, maxlen = 250)\n",
    "\n",
    "# tokenizer to transform text into tokens\n",
    "tokenizer = tf.keras.preprocessing.text.Tokenizer(\n",
    "    num_words=1000,\n",
    "    filters='!\"#$%&()*+,-./:;<=>?@[\\\\]^_`{|}~\\t\\n',\n",
    "    lower=True, split='; ', char_level=False, oov_token=None,\n",
    "    #document_count=0, **kwargs\n",
    ")\n",
    "\n",
    "# Updates internal vocabulary based on a list of texts.\n",
    "tokenizer.fit_on_texts(y)\n",
    "\n",
    "#Transforms each text in x to a sequence of integers.\n",
    "y = tokenizer.texts_to_sequences(y)\n",
    "\n",
    "y = np.array([elem[0]-1 for elem in y])"
   ]
  },
  {
   "cell_type": "code",
   "execution_count": 21,
   "id": "b3111fc8",
   "metadata": {},
   "outputs": [],
   "source": [
    "for i in range(len(y)):\n",
    "    if df.iloc[i,1] not in genres:\n",
    "        print(i)\n",
    "        print(y[i])\n",
    "        print(df.iloc[i,1])"
   ]
  },
  {
   "cell_type": "code",
   "execution_count": 17,
   "id": "aa26eee6",
   "metadata": {},
   "outputs": [],
   "source": [
    "#CNN Model\n",
    "def CNN_Model(loss_weights, vocab_size=200000, features=50, input_length=250, learning_rate=0.001, kernel_size=8):\n",
    "    model = Sequential()\n",
    "    # Embedding layer\n",
    "    model.add(Embedding(vocab_size,features,input_length=input_length))\n",
    "    # Convolutional Layer\n",
    "    model.add(Conv1D(128, kernel_size, strides=1, activation='relu'))\n",
    "    # Pooling Layer\n",
    "    model.add(GlobalMaxPooling1D())\n",
    "\n",
    "    model.add(Dense(128, activation='relu'))\n",
    "    model.add(Dropout(.25))\n",
    "\n",
    "    # Output Layer\n",
    "    model.add(Dense(loss_weights, activation='sigmoid'))\n",
    "    model.compile(loss=keras.losses.sparse_categorical_crossentropy, optimizer=keras.optimizers.Adam(learning_rate=learning_rate), metrics=['accuracy'])\n",
    "    return model"
   ]
  },
  {
   "cell_type": "code",
   "execution_count": 8,
   "id": "e0bc551b",
   "metadata": {},
   "outputs": [],
   "source": [
    "x_train, x_test, y_train, y_test = train_test_split(x, y, test_size=0.2, random_state=0)"
   ]
  },
  {
   "cell_type": "code",
   "execution_count": 9,
   "id": "6f093a27",
   "metadata": {},
   "outputs": [
    {
     "name": "stderr",
     "output_type": "stream",
     "text": [
      "2022-07-03 18:20:26.183132: E tensorflow/stream_executor/cuda/cuda_driver.cc:271] failed call to cuInit: CUDA_ERROR_NO_DEVICE: no CUDA-capable device is detected\n",
      "2022-07-03 18:20:26.183199: I tensorflow/stream_executor/cuda/cuda_diagnostics.cc:156] kernel driver does not appear to be running on this host (pedrod33): /proc/driver/nvidia/version does not exist\n",
      "2022-07-03 18:20:26.184892: I tensorflow/core/platform/cpu_feature_guard.cc:151] This TensorFlow binary is optimized with oneAPI Deep Neural Network Library (oneDNN) to use the following CPU instructions in performance-critical operations:  AVX2 FMA\n",
      "To enable them in other operations, rebuild TensorFlow with the appropriate compiler flags.\n"
     ]
    },
    {
     "name": "stdout",
     "output_type": "stream",
     "text": [
      "Epoch 1/2\n",
      "189/620 [========>.....................] - ETA: 1:53 - loss: 3.0334 - accuracy: 0.1262"
     ]
    },
    {
     "name": "stderr",
     "output_type": "stream",
     "text": [
      "2022-07-03 18:21:16.837245: W tensorflow/core/framework/op_kernel.cc:1745] OP_REQUIRES failed at sparse_xent_op.cc:103 : INVALID_ARGUMENT: Received a label value of 32 which is outside the valid range of [0, 32).  Label values: 28 11 15 0 2 2 27 11 10 20 0 10 2 8 4 6 1 1 2 12 0 3 12 11 17 3 2 3 3 6 0 1 32 2 13 18 0 22 2 20 0 4 18 17 4 19 6 3 4 0 12 3 0 1 8 3 3 2 12 7 4 11 3 18\n"
     ]
    },
    {
     "ename": "InvalidArgumentError",
     "evalue": "Graph execution error:\n\nDetected at node 'sparse_categorical_crossentropy/SparseSoftmaxCrossEntropyWithLogits/SparseSoftmaxCrossEntropyWithLogits' defined at (most recent call last):\n    File \"/usr/lib/python3.8/runpy.py\", line 194, in _run_module_as_main\n      return _run_code(code, main_globals, None,\n    File \"/usr/lib/python3.8/runpy.py\", line 87, in _run_code\n      exec(code, run_globals)\n    File \"/home/pedrod33/.local/lib/python3.8/site-packages/ipykernel_launcher.py\", line 16, in <module>\n      app.launch_new_instance()\n    File \"/home/pedrod33/.local/lib/python3.8/site-packages/traitlets/config/application.py\", line 846, in launch_instance\n      app.start()\n    File \"/home/pedrod33/.local/lib/python3.8/site-packages/ipykernel/kernelapp.py\", line 677, in start\n      self.io_loop.start()\n    File \"/home/pedrod33/.local/lib/python3.8/site-packages/tornado/platform/asyncio.py\", line 199, in start\n      self.asyncio_loop.run_forever()\n    File \"/usr/lib/python3.8/asyncio/base_events.py\", line 570, in run_forever\n      self._run_once()\n    File \"/usr/lib/python3.8/asyncio/base_events.py\", line 1859, in _run_once\n      handle._run()\n    File \"/usr/lib/python3.8/asyncio/events.py\", line 81, in _run\n      self._context.run(self._callback, *self._args)\n    File \"/home/pedrod33/.local/lib/python3.8/site-packages/ipykernel/kernelbase.py\", line 473, in dispatch_queue\n      await self.process_one()\n    File \"/home/pedrod33/.local/lib/python3.8/site-packages/ipykernel/kernelbase.py\", line 462, in process_one\n      await dispatch(*args)\n    File \"/home/pedrod33/.local/lib/python3.8/site-packages/ipykernel/kernelbase.py\", line 369, in dispatch_shell\n      await result\n    File \"/home/pedrod33/.local/lib/python3.8/site-packages/ipykernel/kernelbase.py\", line 664, in execute_request\n      reply_content = await reply_content\n    File \"/home/pedrod33/.local/lib/python3.8/site-packages/ipykernel/ipkernel.py\", line 355, in do_execute\n      res = shell.run_cell(code, store_history=store_history, silent=silent)\n    File \"/home/pedrod33/.local/lib/python3.8/site-packages/ipykernel/zmqshell.py\", line 532, in run_cell\n      return super().run_cell(*args, **kwargs)\n    File \"/home/pedrod33/.local/lib/python3.8/site-packages/IPython/core/interactiveshell.py\", line 2854, in run_cell\n      result = self._run_cell(\n    File \"/home/pedrod33/.local/lib/python3.8/site-packages/IPython/core/interactiveshell.py\", line 2900, in _run_cell\n      return runner(coro)\n    File \"/home/pedrod33/.local/lib/python3.8/site-packages/IPython/core/async_helpers.py\", line 129, in _pseudo_sync_runner\n      coro.send(None)\n    File \"/home/pedrod33/.local/lib/python3.8/site-packages/IPython/core/interactiveshell.py\", line 3098, in run_cell_async\n      has_raised = await self.run_ast_nodes(code_ast.body, cell_name,\n    File \"/home/pedrod33/.local/lib/python3.8/site-packages/IPython/core/interactiveshell.py\", line 3301, in run_ast_nodes\n      if await self.run_code(code, result, async_=asy):\n    File \"/home/pedrod33/.local/lib/python3.8/site-packages/IPython/core/interactiveshell.py\", line 3361, in run_code\n      exec(code_obj, self.user_global_ns, self.user_ns)\n    File \"/tmp/ipykernel_6674/989338951.py\", line 2, in <cell line: 2>\n      res = model.fit(x_train,np.array(y_train),validation_data=(x_test,np.array(y_test)),epochs=2,batch_size=64)\n    File \"/home/pedrod33/.local/lib/python3.8/site-packages/keras/utils/traceback_utils.py\", line 64, in error_handler\n      return fn(*args, **kwargs)\n    File \"/home/pedrod33/.local/lib/python3.8/site-packages/keras/engine/training.py\", line 1384, in fit\n      tmp_logs = self.train_function(iterator)\n    File \"/home/pedrod33/.local/lib/python3.8/site-packages/keras/engine/training.py\", line 1021, in train_function\n      return step_function(self, iterator)\n    File \"/home/pedrod33/.local/lib/python3.8/site-packages/keras/engine/training.py\", line 1010, in step_function\n      outputs = model.distribute_strategy.run(run_step, args=(data,))\n    File \"/home/pedrod33/.local/lib/python3.8/site-packages/keras/engine/training.py\", line 1000, in run_step\n      outputs = model.train_step(data)\n    File \"/home/pedrod33/.local/lib/python3.8/site-packages/keras/engine/training.py\", line 860, in train_step\n      loss = self.compute_loss(x, y, y_pred, sample_weight)\n    File \"/home/pedrod33/.local/lib/python3.8/site-packages/keras/engine/training.py\", line 918, in compute_loss\n      return self.compiled_loss(\n    File \"/home/pedrod33/.local/lib/python3.8/site-packages/keras/engine/compile_utils.py\", line 201, in __call__\n      loss_value = loss_obj(y_t, y_p, sample_weight=sw)\n    File \"/home/pedrod33/.local/lib/python3.8/site-packages/keras/losses.py\", line 141, in __call__\n      losses = call_fn(y_true, y_pred)\n    File \"/home/pedrod33/.local/lib/python3.8/site-packages/keras/losses.py\", line 245, in call\n      return ag_fn(y_true, y_pred, **self._fn_kwargs)\n    File \"/home/pedrod33/.local/lib/python3.8/site-packages/keras/losses.py\", line 1862, in sparse_categorical_crossentropy\n      return backend.sparse_categorical_crossentropy(\n    File \"/home/pedrod33/.local/lib/python3.8/site-packages/keras/backend.py\", line 5202, in sparse_categorical_crossentropy\n      res = tf.nn.sparse_softmax_cross_entropy_with_logits(\nNode: 'sparse_categorical_crossentropy/SparseSoftmaxCrossEntropyWithLogits/SparseSoftmaxCrossEntropyWithLogits'\nReceived a label value of 32 which is outside the valid range of [0, 32).  Label values: 28 11 15 0 2 2 27 11 10 20 0 10 2 8 4 6 1 1 2 12 0 3 12 11 17 3 2 3 3 6 0 1 32 2 13 18 0 22 2 20 0 4 18 17 4 19 6 3 4 0 12 3 0 1 8 3 3 2 12 7 4 11 3 18\n\t [[{{node sparse_categorical_crossentropy/SparseSoftmaxCrossEntropyWithLogits/SparseSoftmaxCrossEntropyWithLogits}}]] [Op:__inference_train_function_819]",
     "output_type": "error",
     "traceback": [
      "\u001b[0;31m---------------------------------------------------------------------------\u001b[0m",
      "\u001b[0;31mInvalidArgumentError\u001b[0m                      Traceback (most recent call last)",
      "Input \u001b[0;32mIn [9]\u001b[0m, in \u001b[0;36m<cell line: 2>\u001b[0;34m()\u001b[0m\n\u001b[1;32m      1\u001b[0m model \u001b[38;5;241m=\u001b[39m CNN_Model(loss_weights)\n\u001b[0;32m----> 2\u001b[0m res \u001b[38;5;241m=\u001b[39m \u001b[43mmodel\u001b[49m\u001b[38;5;241;43m.\u001b[39;49m\u001b[43mfit\u001b[49m\u001b[43m(\u001b[49m\u001b[43mx_train\u001b[49m\u001b[43m,\u001b[49m\u001b[43mnp\u001b[49m\u001b[38;5;241;43m.\u001b[39;49m\u001b[43marray\u001b[49m\u001b[43m(\u001b[49m\u001b[43my_train\u001b[49m\u001b[43m)\u001b[49m\u001b[43m,\u001b[49m\u001b[43mvalidation_data\u001b[49m\u001b[38;5;241;43m=\u001b[39;49m\u001b[43m(\u001b[49m\u001b[43mx_test\u001b[49m\u001b[43m,\u001b[49m\u001b[43mnp\u001b[49m\u001b[38;5;241;43m.\u001b[39;49m\u001b[43marray\u001b[49m\u001b[43m(\u001b[49m\u001b[43my_test\u001b[49m\u001b[43m)\u001b[49m\u001b[43m)\u001b[49m\u001b[43m,\u001b[49m\u001b[43mepochs\u001b[49m\u001b[38;5;241;43m=\u001b[39;49m\u001b[38;5;241;43m2\u001b[39;49m\u001b[43m,\u001b[49m\u001b[43mbatch_size\u001b[49m\u001b[38;5;241;43m=\u001b[39;49m\u001b[38;5;241;43m64\u001b[39;49m\u001b[43m)\u001b[49m\n",
      "File \u001b[0;32m~/.local/lib/python3.8/site-packages/keras/utils/traceback_utils.py:67\u001b[0m, in \u001b[0;36mfilter_traceback.<locals>.error_handler\u001b[0;34m(*args, **kwargs)\u001b[0m\n\u001b[1;32m     65\u001b[0m \u001b[38;5;28;01mexcept\u001b[39;00m \u001b[38;5;167;01mException\u001b[39;00m \u001b[38;5;28;01mas\u001b[39;00m e:  \u001b[38;5;66;03m# pylint: disable=broad-except\u001b[39;00m\n\u001b[1;32m     66\u001b[0m   filtered_tb \u001b[38;5;241m=\u001b[39m _process_traceback_frames(e\u001b[38;5;241m.\u001b[39m__traceback__)\n\u001b[0;32m---> 67\u001b[0m   \u001b[38;5;28;01mraise\u001b[39;00m e\u001b[38;5;241m.\u001b[39mwith_traceback(filtered_tb) \u001b[38;5;28;01mfrom\u001b[39;00m \u001b[38;5;28mNone\u001b[39m\n\u001b[1;32m     68\u001b[0m \u001b[38;5;28;01mfinally\u001b[39;00m:\n\u001b[1;32m     69\u001b[0m   \u001b[38;5;28;01mdel\u001b[39;00m filtered_tb\n",
      "File \u001b[0;32m~/.local/lib/python3.8/site-packages/tensorflow/python/eager/execute.py:54\u001b[0m, in \u001b[0;36mquick_execute\u001b[0;34m(op_name, num_outputs, inputs, attrs, ctx, name)\u001b[0m\n\u001b[1;32m     52\u001b[0m \u001b[38;5;28;01mtry\u001b[39;00m:\n\u001b[1;32m     53\u001b[0m   ctx\u001b[38;5;241m.\u001b[39mensure_initialized()\n\u001b[0;32m---> 54\u001b[0m   tensors \u001b[38;5;241m=\u001b[39m pywrap_tfe\u001b[38;5;241m.\u001b[39mTFE_Py_Execute(ctx\u001b[38;5;241m.\u001b[39m_handle, device_name, op_name,\n\u001b[1;32m     55\u001b[0m                                       inputs, attrs, num_outputs)\n\u001b[1;32m     56\u001b[0m \u001b[38;5;28;01mexcept\u001b[39;00m core\u001b[38;5;241m.\u001b[39m_NotOkStatusException \u001b[38;5;28;01mas\u001b[39;00m e:\n\u001b[1;32m     57\u001b[0m   \u001b[38;5;28;01mif\u001b[39;00m name \u001b[38;5;129;01mis\u001b[39;00m \u001b[38;5;129;01mnot\u001b[39;00m \u001b[38;5;28;01mNone\u001b[39;00m:\n",
      "\u001b[0;31mInvalidArgumentError\u001b[0m: Graph execution error:\n\nDetected at node 'sparse_categorical_crossentropy/SparseSoftmaxCrossEntropyWithLogits/SparseSoftmaxCrossEntropyWithLogits' defined at (most recent call last):\n    File \"/usr/lib/python3.8/runpy.py\", line 194, in _run_module_as_main\n      return _run_code(code, main_globals, None,\n    File \"/usr/lib/python3.8/runpy.py\", line 87, in _run_code\n      exec(code, run_globals)\n    File \"/home/pedrod33/.local/lib/python3.8/site-packages/ipykernel_launcher.py\", line 16, in <module>\n      app.launch_new_instance()\n    File \"/home/pedrod33/.local/lib/python3.8/site-packages/traitlets/config/application.py\", line 846, in launch_instance\n      app.start()\n    File \"/home/pedrod33/.local/lib/python3.8/site-packages/ipykernel/kernelapp.py\", line 677, in start\n      self.io_loop.start()\n    File \"/home/pedrod33/.local/lib/python3.8/site-packages/tornado/platform/asyncio.py\", line 199, in start\n      self.asyncio_loop.run_forever()\n    File \"/usr/lib/python3.8/asyncio/base_events.py\", line 570, in run_forever\n      self._run_once()\n    File \"/usr/lib/python3.8/asyncio/base_events.py\", line 1859, in _run_once\n      handle._run()\n    File \"/usr/lib/python3.8/asyncio/events.py\", line 81, in _run\n      self._context.run(self._callback, *self._args)\n    File \"/home/pedrod33/.local/lib/python3.8/site-packages/ipykernel/kernelbase.py\", line 473, in dispatch_queue\n      await self.process_one()\n    File \"/home/pedrod33/.local/lib/python3.8/site-packages/ipykernel/kernelbase.py\", line 462, in process_one\n      await dispatch(*args)\n    File \"/home/pedrod33/.local/lib/python3.8/site-packages/ipykernel/kernelbase.py\", line 369, in dispatch_shell\n      await result\n    File \"/home/pedrod33/.local/lib/python3.8/site-packages/ipykernel/kernelbase.py\", line 664, in execute_request\n      reply_content = await reply_content\n    File \"/home/pedrod33/.local/lib/python3.8/site-packages/ipykernel/ipkernel.py\", line 355, in do_execute\n      res = shell.run_cell(code, store_history=store_history, silent=silent)\n    File \"/home/pedrod33/.local/lib/python3.8/site-packages/ipykernel/zmqshell.py\", line 532, in run_cell\n      return super().run_cell(*args, **kwargs)\n    File \"/home/pedrod33/.local/lib/python3.8/site-packages/IPython/core/interactiveshell.py\", line 2854, in run_cell\n      result = self._run_cell(\n    File \"/home/pedrod33/.local/lib/python3.8/site-packages/IPython/core/interactiveshell.py\", line 2900, in _run_cell\n      return runner(coro)\n    File \"/home/pedrod33/.local/lib/python3.8/site-packages/IPython/core/async_helpers.py\", line 129, in _pseudo_sync_runner\n      coro.send(None)\n    File \"/home/pedrod33/.local/lib/python3.8/site-packages/IPython/core/interactiveshell.py\", line 3098, in run_cell_async\n      has_raised = await self.run_ast_nodes(code_ast.body, cell_name,\n    File \"/home/pedrod33/.local/lib/python3.8/site-packages/IPython/core/interactiveshell.py\", line 3301, in run_ast_nodes\n      if await self.run_code(code, result, async_=asy):\n    File \"/home/pedrod33/.local/lib/python3.8/site-packages/IPython/core/interactiveshell.py\", line 3361, in run_code\n      exec(code_obj, self.user_global_ns, self.user_ns)\n    File \"/tmp/ipykernel_6674/989338951.py\", line 2, in <cell line: 2>\n      res = model.fit(x_train,np.array(y_train),validation_data=(x_test,np.array(y_test)),epochs=2,batch_size=64)\n    File \"/home/pedrod33/.local/lib/python3.8/site-packages/keras/utils/traceback_utils.py\", line 64, in error_handler\n      return fn(*args, **kwargs)\n    File \"/home/pedrod33/.local/lib/python3.8/site-packages/keras/engine/training.py\", line 1384, in fit\n      tmp_logs = self.train_function(iterator)\n    File \"/home/pedrod33/.local/lib/python3.8/site-packages/keras/engine/training.py\", line 1021, in train_function\n      return step_function(self, iterator)\n    File \"/home/pedrod33/.local/lib/python3.8/site-packages/keras/engine/training.py\", line 1010, in step_function\n      outputs = model.distribute_strategy.run(run_step, args=(data,))\n    File \"/home/pedrod33/.local/lib/python3.8/site-packages/keras/engine/training.py\", line 1000, in run_step\n      outputs = model.train_step(data)\n    File \"/home/pedrod33/.local/lib/python3.8/site-packages/keras/engine/training.py\", line 860, in train_step\n      loss = self.compute_loss(x, y, y_pred, sample_weight)\n    File \"/home/pedrod33/.local/lib/python3.8/site-packages/keras/engine/training.py\", line 918, in compute_loss\n      return self.compiled_loss(\n    File \"/home/pedrod33/.local/lib/python3.8/site-packages/keras/engine/compile_utils.py\", line 201, in __call__\n      loss_value = loss_obj(y_t, y_p, sample_weight=sw)\n    File \"/home/pedrod33/.local/lib/python3.8/site-packages/keras/losses.py\", line 141, in __call__\n      losses = call_fn(y_true, y_pred)\n    File \"/home/pedrod33/.local/lib/python3.8/site-packages/keras/losses.py\", line 245, in call\n      return ag_fn(y_true, y_pred, **self._fn_kwargs)\n    File \"/home/pedrod33/.local/lib/python3.8/site-packages/keras/losses.py\", line 1862, in sparse_categorical_crossentropy\n      return backend.sparse_categorical_crossentropy(\n    File \"/home/pedrod33/.local/lib/python3.8/site-packages/keras/backend.py\", line 5202, in sparse_categorical_crossentropy\n      res = tf.nn.sparse_softmax_cross_entropy_with_logits(\nNode: 'sparse_categorical_crossentropy/SparseSoftmaxCrossEntropyWithLogits/SparseSoftmaxCrossEntropyWithLogits'\nReceived a label value of 32 which is outside the valid range of [0, 32).  Label values: 28 11 15 0 2 2 27 11 10 20 0 10 2 8 4 6 1 1 2 12 0 3 12 11 17 3 2 3 3 6 0 1 32 2 13 18 0 22 2 20 0 4 18 17 4 19 6 3 4 0 12 3 0 1 8 3 3 2 12 7 4 11 3 18\n\t [[{{node sparse_categorical_crossentropy/SparseSoftmaxCrossEntropyWithLogits/SparseSoftmaxCrossEntropyWithLogits}}]] [Op:__inference_train_function_819]"
     ]
    }
   ],
   "source": [
    "model = CNN_Model(loss_weights)\n",
    "res = model.fit(x_train,np.array(y_train),validation_data=(x_test,np.array(y_test)),epochs=2,batch_size=64)"
   ]
  },
  {
   "cell_type": "code",
   "execution_count": null,
   "id": "8e983a70",
   "metadata": {},
   "outputs": [],
   "source": [
    "def plot_accuracy_comparison(accs, title, legend):\n",
    "    epochs = len(accs[0])\n",
    "    plt.figure(figsize = (10,5))\n",
    "    for acc in accs:\n",
    "        plt.plot(range(1, epochs+1), acc)\n",
    "\n",
    "    plt.xticks(range(1, epochs+1))\n",
    "    plt.title(title)\n",
    "    plt.legend(legend)\n",
    "    plt.xlabel(\"Epoch\")\n",
    "    plt.ylabel(\"Accuracy\")\n",
    "    plt.show()\n"
   ]
  },
  {
   "cell_type": "code",
   "execution_count": null,
   "id": "9f6f43c6",
   "metadata": {},
   "outputs": [],
   "source": [
    "def plot_loss_comparison(losses, title, legend):\n",
    "    epochs = len(losses[0])\n",
    "    plt.figure(figsize = (10,5))\n",
    "    for loss in losses:\n",
    "        plt.plot(range(1, epochs+1), loss)\n",
    "\n",
    "    plt.xticks(range(1, epochs+1))\n",
    "    plt.title(title)\n",
    "    plt.legend(legend)\n",
    "    plt.xlabel(\"Epochs\")\n",
    "    plt.ylabel(\"Loss\")\n",
    "    plt.show()"
   ]
  },
  {
   "cell_type": "code",
   "execution_count": null,
   "id": "6937d376",
   "metadata": {},
   "outputs": [],
   "source": [
    "def plot_confusion_matrix(y_test, y_pred):\n",
    "    plt.matshow(confusion_matrix(y_test, y_pred))\n",
    "    plt.ylabel(\"Predicted Category\", fontsize=14)\n",
    "    plt.title(\"Category\", fontsize=14)\n",
    "    plt.show()"
   ]
  },
  {
   "cell_type": "code",
   "execution_count": null,
   "id": "8a34f25b",
   "metadata": {
    "scrolled": false
   },
   "outputs": [],
   "source": [
    "plot_accuracy_comparison([res.history[\"accuracy\"], res.history[\"val_accuracy\"]],\n",
    "                        \"Training/Validation Accuracy Comparison\",\n",
    "                        [\"Training Accuracy\", \"Validation Accuracy\"])\n"
   ]
  },
  {
   "cell_type": "code",
   "execution_count": null,
   "id": "257c39a1",
   "metadata": {
    "scrolled": true
   },
   "outputs": [],
   "source": [
    "plot_accuracy_comparison([res.history[\"loss\"], res.history[\"val_loss\"]],\n",
    "                        \"Training/Validation Loss Comparison\",\n",
    "                        [\"Training Accuracy\", \"Validation Accuracy\"])"
   ]
  },
  {
   "cell_type": "code",
   "execution_count": null,
   "id": "79620f83",
   "metadata": {},
   "outputs": [],
   "source": [
    "print(np.argmax(model.predict(x_test), axis=-1))\n",
    "#print(y_test)\n",
    "plot_confusion_matrix(y_test,np.argmax(model.predict(x_test), axis=-1))"
   ]
  }
 ],
 "metadata": {
  "kernelspec": {
   "display_name": "Python 3 (ipykernel)",
   "language": "python",
   "name": "python3"
  },
  "language_info": {
   "codemirror_mode": {
    "name": "ipython",
    "version": 3
   },
   "file_extension": ".py",
   "mimetype": "text/x-python",
   "name": "python",
   "nbconvert_exporter": "python",
   "pygments_lexer": "ipython3",
   "version": "3.8.10"
  }
 },
 "nbformat": 4,
 "nbformat_minor": 5
}
