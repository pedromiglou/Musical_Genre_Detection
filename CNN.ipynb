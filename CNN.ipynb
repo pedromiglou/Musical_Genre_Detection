{
 "cells": [
  {
   "cell_type": "code",
   "execution_count": 33,
   "id": "1f3065e2",
   "metadata": {},
   "outputs": [],
   "source": [
    "import numpy as np\n",
    "import pandas as pd\n",
    "import matplotlib.pyplot as plt\n",
    "%matplotlib inline\n",
    "from utils import *\n",
    "import tensorflow as tf\n",
    "\n",
    "from random import random\n",
    "from tensorflow import keras\n",
    "from tensorflow.keras.layers import Conv1D, Dense, Embedding,GlobalMaxPooling1D, Dropout\n",
    "from tensorflow.keras.models import Sequential\n",
    "from tensorflow.keras.preprocessing.sequence import pad_sequences\n",
    "from sklearn.model_selection import train_test_split, KFold\n",
    "from sklearn.metrics import classification_report\n",
    "\n"
   ]
  },
  {
   "cell_type": "code",
   "execution_count": 34,
   "id": "98e1b306",
   "metadata": {},
   "outputs": [],
   "source": [
    "df = pd.read_csv('cleaned-data.csv')"
   ]
  },
  {
   "cell_type": "code",
   "execution_count": 35,
   "id": "c52d4e6f",
   "metadata": {},
   "outputs": [],
   "source": [
    "indexNames = []\n",
    "for index, row in df.iterrows():\n",
    "    if len(row.Genres.split(\"; \"))>1:\n",
    "        indexNames.append(index)\n",
    "df = df.drop(indexNames)"
   ]
  },
  {
   "cell_type": "code",
   "execution_count": 36,
   "id": "df6a59c4",
   "metadata": {},
   "outputs": [],
   "source": [
    "x = np.array(df['Lyric']) #\"text\"\n",
    "y = np.array(df['Genres'])"
   ]
  },
  {
   "cell_type": "code",
   "execution_count": 37,
   "id": "12484204",
   "metadata": {},
   "outputs": [
    {
     "name": "stdout",
     "output_type": "stream",
     "text": [
      "5\n"
     ]
    },
    {
     "data": {
      "image/png": "[encoded data removed]",
      "text/plain": [
       "<Figure size 432x288 with 1 Axes>"
      ]
     },
     "metadata": {
      "needs_background": "light"
     },
     "output_type": "display_data"
    }
   ],
   "source": [
    "df['Genres'].value_counts().plot.bar()\n",
    "genres = set(df[\"Genres\"])\n",
    "loss_weights = len(set(df[\"Genres\"]))\n",
    "print(loss_weights)"
   ]
  },
  {
   "cell_type": "code",
   "execution_count": 38,
   "id": "3f9492ad",
   "metadata": {
    "scrolled": true
   },
   "outputs": [],
   "source": [
    "# tokenizer to transform lyrics into tokens\n",
    "tokenizer = tf.keras.preprocessing.text.Tokenizer(\n",
    "    num_words=16384,\n",
    "    filters='!\"#$%&()*+,-.:;<=>?@[\\\\]^_`{|}~\\t\\n',\n",
    "    lower=True, split=' ', char_level=False, oov_token=None,\n",
    "    #document_count=0, **kwargs\n",
    ")\n",
    "\n",
    "# updates internal vocabulary based on the lyrics\n",
    "tokenizer.fit_on_texts(x)\n",
    "\n",
    "# transform each text in x to a sequence of tokens\n",
    "x = tokenizer.texts_to_sequences(x)\n",
    "\n",
    "# pads/cuts sequences to the same length\n",
    "x = pad_sequences(x, maxlen = 265)\n",
    "\n",
    "# tokenizer to transform genres into tokens\n",
    "tokenizer = tf.keras.preprocessing.text.Tokenizer(\n",
    "    num_words=1000,\n",
    "    filters='!\"#$%&()*+,-.:;<=>?@[]^_`{|}~\\t\\n',\n",
    "    lower=True, split='; ', char_level=False, oov_token=None,\n",
    "    #document_count=0, **kwargs\n",
    ")\n",
    "\n",
    "# updates internal vocabulary based on the genres\n",
    "tokenizer.fit_on_texts(y)\n",
    "\n",
    "# transform each genre in y to an integer\n",
    "y = tokenizer.texts_to_sequences(y)\n",
    "y = np.array([elem[0]-1 for elem in y])"
   ]
  },
  {
   "cell_type": "code",
   "execution_count": 39,
   "id": "aa26eee6",
   "metadata": {},
   "outputs": [],
   "source": [
    "#CNN Model\n",
    "def CNN_Model(vocab_size=16384, features=32, input_length=265, learning_rate=0.001, kernel_size=2, dropout=0):\n",
    "    model = Sequential()\n",
    "    # Embedding layer\n",
    "    model.add(Embedding(vocab_size,features,input_length=input_length))\n",
    "    # Convolutional Layer\n",
    "    model.add(Conv1D(input_length, kernel_size, strides=1, activation='relu'))\n",
    "    \n",
    "    # Pooling Layer\n",
    "    model.add(GlobalMaxPooling1D())\n",
    "\n",
    "    model.add(Dropout(dropout))\n",
    "    model.add(Dense(input_length, activation='relu'))\n",
    "\n",
    "    # Output Layer\n",
    "    model.add(Dense(input_length, activation='sigmoid'))\n",
    "    model.compile(loss=keras.losses.sparse_categorical_crossentropy, optimizer=keras.optimizers.Adam(learning_rate=learning_rate), metrics=['accuracy'], loss_weights=loss_weights)\n",
    "    return model"
   ]
  },
  {
   "cell_type": "code",
   "execution_count": 40,
   "id": "e0bc551b",
   "metadata": {},
   "outputs": [],
   "source": [
    "x_train, y_train, x_val, y_val, x_test, y_test = split(x, y)"
   ]
  },
  {
   "cell_type": "code",
   "execution_count": 41,
   "id": "6f093a27",
   "metadata": {
    "scrolled": false
   },
   "outputs": [
    {
     "name": "stdout",
     "output_type": "stream",
     "text": [
      "Epoch 1/2\n",
      "1757/1757 [==============================] - 133s 75ms/step - loss: 5.1583 - accuracy: 0.6176 - val_loss: 4.4392 - val_accuracy: 0.6590\n",
      "Epoch 2/2\n",
      "1757/1757 [==============================] - 149s 85ms/step - loss: 3.9084 - accuracy: 0.7069 - val_loss: 4.2927 - val_accuracy: 0.6761\n"
     ]
    }
   ],
   "source": [
    "model = CNN_Model(dropout=0, features=64)\n",
    "\n",
    "res = model.fit(x_train,np.array(y_train),validation_data=(x_val,np.array(y_val)),epochs=2)"
   ]
  },
  {
   "cell_type": "code",
   "execution_count": 9,
   "id": "dd99c53f",
   "metadata": {
    "scrolled": false
   },
   "outputs": [
    {
     "name": "stdout",
     "output_type": "stream",
     "text": [
      "Model: \"sequential\"\n",
      "_________________________________________________________________\n",
      " Layer (type)                Output Shape              Param #   \n",
      "=================================================================\n",
      " embedding (Embedding)       (None, 265, 64)           1048576   \n",
      "                                                                 \n",
      " conv1d (Conv1D)             (None, 264, 265)          34185     \n",
      "                                                                 \n",
      " global_max_pooling1d (Globa  (None, 265)              0         \n",
      " lMaxPooling1D)                                                  \n",
      "                                                                 \n",
      " dropout (Dropout)           (None, 265)               0         \n",
      "                                                                 \n",
      " dense (Dense)               (None, 265)               70490     \n",
      "                                                                 \n",
      " dense_1 (Dense)             (None, 265)               70490     \n",
      "                                                                 \n",
      "=================================================================\n",
      "Total params: 1,223,741\n",
      "Trainable params: 1,223,741\n",
      "Non-trainable params: 0\n",
      "_________________________________________________________________\n"
     ]
    }
   ],
   "source": [
    "model.summary()"
   ]
  },
  {
   "cell_type": "code",
   "execution_count": null,
   "id": "8a34f25b",
   "metadata": {
    "scrolled": false
   },
   "outputs": [],
   "source": [
    "plot_accuracy_comparison([res.history[\"accuracy\"], res.history[\"val_accuracy\"]],\n",
    "                        \"Training/Validation Accuracy Comparison\",\n",
    "                        [\"Training Accuracy\", \"Validation Accuracy\"])\n"
   ]
  },
  {
   "cell_type": "code",
   "execution_count": null,
   "id": "257c39a1",
   "metadata": {
    "scrolled": false
   },
   "outputs": [],
   "source": [
    "plot_loss_comparison([res.history[\"loss\"], res.history[\"val_loss\"]],\n",
    "                        \"Training/Validation Loss Comparison\",\n",
    "                        [\"Training Loss\", \"Validation Loss\"])"
   ]
  },
  {
   "cell_type": "code",
   "execution_count": 42,
   "id": "79620f83",
   "metadata": {
    "scrolled": false
   },
   "outputs": [
    {
     "name": "stdout",
     "output_type": "stream",
     "text": [
      "586/586 [==============================] - 11s 19ms/step - loss: 4.2680 - accuracy: 0.6766\n",
      "Test Loss: 4.267960548400879\n",
      "Test Accuracy: 0.676647961139679\n"
     ]
    },
    {
     "data": {
      "image/png": "[encoded data removed]",
      "text/plain": [
       "<Figure size 288x288 with 1 Axes>"
      ]
     },
     "metadata": {
      "needs_background": "light"
     },
     "output_type": "display_data"
    },
    {
     "name": "stdout",
     "output_type": "stream",
     "text": [
      "              precision    recall  f1-score   support\n",
      "\n",
      "           0       0.81      0.67      0.74      9646\n",
      "           1       0.57      0.49      0.53      4515\n",
      "           2       0.79      0.90      0.84      3031\n",
      "           3       0.56      0.80      0.66      1428\n",
      "           4       0.07      0.89      0.14       115\n",
      "\n",
      "    accuracy                           0.68     18735\n",
      "   macro avg       0.56      0.75      0.58     18735\n",
      "weighted avg       0.73      0.68      0.69     18735\n",
      "\n"
     ]
    }
   ],
   "source": [
    "loss, acc = model.evaluate(x_test, y_test)\n",
    "print(\"Test Loss:\", loss)\n",
    "print(\"Test Accuracy:\", acc)\n",
    "\n",
    "y_pred = np.argmax(model.predict(x_test), axis=-1)\n",
    "plot_confusion_matrix(y_test,y_pred)\n",
    "print(classification_report(y_pred,y_test))"
   ]
  },
  {
   "cell_type": "markdown",
   "id": "51f6aa3b",
   "metadata": {},
   "source": [
    "### Dropout Rate"
   ]
  },
  {
   "cell_type": "code",
   "execution_count": null,
   "id": "beb111c1",
   "metadata": {
    "scrolled": false
   },
   "outputs": [],
   "source": [
    "dropout_rates=[]\n",
    "acc = []\n",
    "loss = []\n",
    "\n",
    "dp = 0\n",
    "while dp <= 0.4:\n",
    "    model = CNN_Model(dropout=dp)\n",
    "    results = model.fit(x_train, y_train, validation_data=(x_val,y_val), epochs=4)\n",
    "\n",
    "    acc.append(results.history[\"val_accuracy\"])\n",
    "    loss.append(results.history[\"val_loss\"])\n",
    "    dropout_rates.append(dp)\n",
    "    dp += 0.1"
   ]
  },
  {
   "cell_type": "code",
   "execution_count": null,
   "id": "0b2b445c",
   "metadata": {
    "scrolled": true
   },
   "outputs": [],
   "source": [
    "plot_accuracy_comparison(acc, \"Dropout Rate Comparison (Validation Accuracy)\", dropout_rates)"
   ]
  },
  {
   "cell_type": "code",
   "execution_count": null,
   "id": "8099b087",
   "metadata": {
    "scrolled": true
   },
   "outputs": [],
   "source": [
    "plot_loss_comparison(loss, \"Learning Rate Comparison (Validation Loss)\", dropout_rates)"
   ]
  },
  {
   "cell_type": "markdown",
   "id": "6a8b93ff",
   "metadata": {},
   "source": [
    "## Features"
   ]
  },
  {
   "cell_type": "code",
   "execution_count": null,
   "id": "98a93b3d",
   "metadata": {},
   "outputs": [],
   "source": [
    "features=[]\n",
    "acc = []\n",
    "loss = []\n",
    "\n",
    "f = 32\n",
    "while f <= 512:\n",
    "    model = CNN_Model(features=f)\n",
    "    results = model.fit(x_train, y_train, validation_data=(x_val,y_val), epochs=4)\n",
    "\n",
    "    acc.append(results.history[\"val_accuracy\"])\n",
    "    loss.append(results.history[\"val_loss\"])\n",
    "    features.append(f)\n",
    "    f *= 2"
   ]
  },
  {
   "cell_type": "code",
   "execution_count": null,
   "id": "649bd98b",
   "metadata": {
    "scrolled": true
   },
   "outputs": [],
   "source": [
    "plot_accuracy_comparison(acc, \"Feature Amount Comparison (Validation Accuracy)\", features)"
   ]
  },
  {
   "cell_type": "code",
   "execution_count": null,
   "id": "aa379bd4",
   "metadata": {
    "scrolled": true
   },
   "outputs": [],
   "source": [
    "plot_loss_comparison(loss, \"Feature Amount Comparison (Validation Loss)\", features)"
   ]
  }
 ],
 "metadata": {
  "kernelspec": {
   "display_name": "Python 3 (ipykernel)",
   "language": "python",
   "name": "python3"
  },
  "language_info": {
   "codemirror_mode": {
    "name": "ipython",
    "version": 3
   },
   "file_extension": ".py",
   "mimetype": "text/x-python",
   "name": "python",
   "nbconvert_exporter": "python",
   "pygments_lexer": "ipython3",
   "version": "3.8.10"
  }
 },
 "nbformat": 4,
 "nbformat_minor": 5
}
