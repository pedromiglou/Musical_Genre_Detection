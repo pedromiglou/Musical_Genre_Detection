{
 "cells": [
  {
   "cell_type": "code",
   "execution_count": 1,
   "id": "1f3065e2",
   "metadata": {},
   "outputs": [],
   "source": [
    "import numpy as np\n",
    "import pandas as pd\n",
    "import matplotlib.pyplot as plt\n",
    "%matplotlib inline\n",
    "\n",
    "import tensorflow as tf\n",
    "from tensorflow import keras\n",
    "from tensorflow.keras.layers import Conv1D, Dense, Embedding,GlobalMaxPooling1D, Dropout\n",
    "from tensorflow.keras.models import Sequential\n",
    "from tensorflow.keras.preprocessing.sequence import pad_sequences\n",
    "from sklearn.model_selection import train_test_split, KFold\n",
    "from sklearn.metrics import classification_report, confusion_matrix\n",
    "\n"
   ]
  },
  {
   "cell_type": "code",
   "execution_count": 2,
   "id": "98e1b306",
   "metadata": {},
   "outputs": [],
   "source": [
    "df = pd.read_csv('cleaned-data.csv')"
   ]
  },
  {
   "cell_type": "code",
   "execution_count": null,
   "id": "c52d4e6f",
   "metadata": {},
   "outputs": [],
   "source": [
    "indexNames = []\n",
    "for index, row in df.iterrows():\n",
    "    if len(row.Genres.split(\"; \"))>1:\n",
    "        indexNames.append(index)\n",
    "df = df.drop(indexNames)"
   ]
  },
  {
   "cell_type": "code",
   "execution_count": null,
   "id": "df6a59c4",
   "metadata": {},
   "outputs": [],
   "source": [
    "x = np.array(df['Lyric']) #\"text\"\n",
    "y = np.array(df['Genres'])"
   ]
  },
  {
   "cell_type": "code",
   "execution_count": null,
   "id": "12484204",
   "metadata": {},
   "outputs": [],
   "source": [
    "df['Genres'].value_counts().plot.bar()\n",
    "loss_weights = len(set(df[\"Genres\"]))\n",
    "print(set(df[\"Genres\"]))"
   ]
  },
  {
   "cell_type": "code",
   "execution_count": null,
   "id": "3f9492ad",
   "metadata": {},
   "outputs": [],
   "source": [
    "# tokenizer to transform text into tokens\n",
    "tokenizer = tf.keras.preprocessing.text.Tokenizer(\n",
    "    num_words=200000,\n",
    "    filters='!\"#$%&()*+,-./:;<=>?@[\\\\]^_`{|}~\\t\\n',\n",
    "    lower=True, split=' ', char_level=False, oov_token=None,\n",
    "    #document_count=0, **kwargs\n",
    ")\n",
    "\n",
    "# Updates internal vocabulary based on a list of texts.\n",
    "tokenizer.fit_on_texts(x)\n",
    "\n",
    "#Transforms each text in x to a sequence of integers.\n",
    "x = tokenizer.texts_to_sequences(x)\n",
    "\n",
    "#Pads sequences to the same length. In this case, with maxlen of 100 integers\n",
    "x = pad_sequences(x, maxlen = 250)\n",
    "\n",
    "# tokenizer to transform text into tokens\n",
    "tokenizer = tf.keras.preprocessing.text.Tokenizer(\n",
    "    num_words=100000,\n",
    "    filters='!\"#$%&()*+,-./:;<=>?@[\\\\]^_`{|}~\\t\\n',\n",
    "    lower=True, split=' ', char_level=False, oov_token=None,\n",
    "    #document_count=0, **kwargs\n",
    ")\n",
    "\n",
    "# Updates internal vocabulary based on a list of texts.\n",
    "tokenizer.fit_on_texts(y)\n",
    "\n",
    "#Transforms each text in x to a sequence of integers.\n",
    "y = tokenizer.texts_to_sequences(y)\n",
    "\n",
    "y = np.array([[1, 0] if temp[0]==1 else [0, 1] for temp in y])"
   ]
  },
  {
   "cell_type": "code",
   "execution_count": null,
   "id": "aa26eee6",
   "metadata": {},
   "outputs": [],
   "source": [
    "#CNN Model\n",
    "def CNN_Model(loss_weights, vocab_size=120000, features=50, input_length=250, learning_rate=0.001, kernel_size=8):\n",
    "    model = Sequential()\n",
    "    # Embedding layer\n",
    "    model.add(Embedding(vocab_size,features,input_length=input_length))\n",
    "    # Convolutional Layer\n",
    "    model.add(Conv1D(128, kernel_size, strides=1, activation='relu'))\n",
    "    # Pooling Layer\n",
    "    model.add(GlobalMaxPooling1D())\n",
    "\n",
    "    model.add(Dense(128, activation='relu'))\n",
    "    model.add(Dropout(.25))\n",
    "\n",
    "    # Output Layer\n",
    "    model.add(Dense(2, activation='sigmoid'))\n",
    "    model.compile(loss=keras.losses.binary_crossentropy, optimizer=keras.optimizers.Adam(learning_rate=learning_rate), metrics=['accuracy'], loss_weights=loss_weights)\n",
    "    return model"
   ]
  },
  {
   "cell_type": "code",
   "execution_count": null,
   "id": "6f093a27",
   "metadata": {},
   "outputs": [],
   "source": [
    "x_train, x_test, y_train, y_test = train_test_split(x, y, test_size=0.2, random_state=0)\n",
    "model = CNN_Model(loss_weights)\n",
    "print(y_test.shape)\n",
    "print(y_train.shape)\n",
    "\n",
    "res = model.fit(x_train,y_train,validation_data=(x_test,y_test),epochs=20,batch_size=64)\n"
   ]
  },
  {
   "cell_type": "code",
   "execution_count": null,
   "id": "8e983a70",
   "metadata": {},
   "outputs": [],
   "source": [
    "def plot_accuracy_comparison(accs, title, legend):\n",
    "    epochs = len(accs[0])\n",
    "    plt.figure(figsize = (10,5))\n",
    "    for acc in accs:\n",
    "        plt.plot(range(1, epochs+1), acc)\n",
    "\n",
    "    plt.xticks(range(1, epochs+1))\n",
    "    plt.title(title)\n",
    "    plt.legend(legend)\n",
    "    plt.xlabel(\"Epoch\")\n",
    "    plt.ylabel(\"Accuracy\")\n",
    "    plt.show()\n"
   ]
  },
  {
   "cell_type": "code",
   "execution_count": null,
   "id": "9f6f43c6",
   "metadata": {},
   "outputs": [],
   "source": [
    "def plot_loss_comparison(losses, title, legend):\n",
    "    epochs = len(losses[0])\n",
    "    plt.figure(figsize = (10,5))\n",
    "    for loss in losses:\n",
    "        plt.plot(range(1, epochs+1), loss)\n",
    "\n",
    "    plt.xticks(range(1, epochs+1))\n",
    "    plt.title(title)\n",
    "    plt.legend(legend)\n",
    "    plt.xlabel(\"Epochs\")\n",
    "    plt.ylabel(\"Loss\")\n",
    "    plt.show()"
   ]
  },
  {
   "cell_type": "code",
   "execution_count": null,
   "id": "6937d376",
   "metadata": {},
   "outputs": [],
   "source": [
    "def plot_confusion_matrix(y_test, y_pred):\n",
    "    plt.matshow(confusion_matrix(y_test, y_pred))\n",
    "    plt.ylabel(\"Predicted Category\", fontsize=14)\n",
    "    plt.title(\"Category\", fontsize=14)\n",
    "    plt.show()"
   ]
  },
  {
   "cell_type": "code",
   "execution_count": null,
   "id": "8a34f25b",
   "metadata": {
    "scrolled": false
   },
   "outputs": [],
   "source": [
    "plot_accuracy_comparison([res.history[\"accuracy\"], res.history[\"val_accuracy\"]],\n",
    "                        \"Training/Validation Accuracy Comparison\",\n",
    "                        [\"Training Accuracy\", \"Validation Accuracy\"])\n"
   ]
  },
  {
   "cell_type": "code",
   "execution_count": null,
   "id": "257c39a1",
   "metadata": {
    "scrolled": false
   },
   "outputs": [],
   "source": [
    "plot_accuracy_comparison([res.history[\"loss\"], res.history[\"val_loss\"]],\n",
    "                        \"Training/Validation Loss Comparison\",\n",
    "                        [\"Training Accuracy\", \"Validation Accuracy\"])"
   ]
  },
  {
   "cell_type": "code",
   "execution_count": null,
   "id": "79620f83",
   "metadata": {},
   "outputs": [],
   "source": [
    "print(np.argmax(model.predict(x_test), axis=-1))\n",
    "print(y_test)\n",
    "#plot_confusion_matrix(y_test,)"
   ]
  },
  {
   "cell_type": "code",
   "execution_count": null,
   "id": "755e7163",
   "metadata": {},
   "outputs": [],
   "source": []
  }
 ],
 "metadata": {
  "kernelspec": {
   "display_name": "Python 3 (ipykernel)",
   "language": "python",
   "name": "python3"
  },
  "language_info": {
   "codemirror_mode": {
    "name": "ipython",
    "version": 3
   },
   "file_extension": ".py",
   "mimetype": "text/x-python",
   "name": "python",
   "nbconvert_exporter": "python",
   "pygments_lexer": "ipython3",
   "version": "3.8.10"
  }
 },
 "nbformat": 4,
 "nbformat_minor": 5
}
