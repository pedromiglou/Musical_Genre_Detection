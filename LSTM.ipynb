{
 "cells": [
  {
   "cell_type": "markdown",
   "id": "1f04e1d8",
   "metadata": {},
   "source": [
    "## Imports"
   ]
  },
  {
   "cell_type": "code",
   "execution_count": 1,
   "id": "405f8650",
   "metadata": {},
   "outputs": [],
   "source": [
    "import numpy as np\n",
    "import pandas as pd\n",
    "import os\n",
    "import matplotlib.pyplot as plt\n",
    "import tensorflow as tf\n",
    "from tensorflow import keras\n",
    "from tensorflow.keras.layers import Conv1D\n",
    "from tensorflow.keras.layers import Dense\n",
    "from tensorflow.keras.layers import Embedding\n",
    "from tensorflow.keras.layers import GlobalMaxPooling1D\n",
    "from tensorflow.keras.layers import LSTM\n",
    "from tensorflow.keras.models import Sequential\n",
    "from tensorflow.keras.preprocessing.sequence import pad_sequences\n",
    "from sklearn.model_selection import train_test_split, KFold\n",
    "from sklearn.metrics import classification_report, confusion_matrix"
   ]
  },
  {
   "cell_type": "markdown",
   "id": "dd6a4942",
   "metadata": {},
   "source": [
    "## Read/Transform Data"
   ]
  },
  {
   "cell_type": "code",
   "execution_count": 2,
   "id": "e9da6ad2",
   "metadata": {},
   "outputs": [],
   "source": [
    "#read data\n",
    "df = pd.read_csv('cleaned-data.csv')"
   ]
  },
  {
   "cell_type": "code",
   "execution_count": 3,
   "id": "da8962f2",
   "metadata": {},
   "outputs": [
    {
     "data": {
      "text/html": [
       "<div>\n",
       "<style scoped>\n",
       "    .dataframe tbody tr th:only-of-type {\n",
       "        vertical-align: middle;\n",
       "    }\n",
       "\n",
       "    .dataframe tbody tr th {\n",
       "        vertical-align: top;\n",
       "    }\n",
       "\n",
       "    .dataframe thead th {\n",
       "        text-align: right;\n",
       "    }\n",
       "</style>\n",
       "<table border=\"1\" class=\"dataframe\">\n",
       "  <thead>\n",
       "    <tr style=\"text-align: right;\">\n",
       "      <th></th>\n",
       "      <th>Lyric</th>\n",
       "      <th>Genres</th>\n",
       "    </tr>\n",
       "  </thead>\n",
       "  <tbody>\n",
       "    <tr>\n",
       "      <th>0</th>\n",
       "      <td>a folk of cheeriness and strength content with...</td>\n",
       "      <td>Heavy Metal</td>\n",
       "    </tr>\n",
       "    <tr>\n",
       "      <th>1</th>\n",
       "      <td>if you aint got no money 4x if youre independe...</td>\n",
       "      <td>Pop</td>\n",
       "    </tr>\n",
       "    <tr>\n",
       "      <th>2</th>\n",
       "      <td>come on i wanna dance in the dark come on were...</td>\n",
       "      <td>Pop</td>\n",
       "    </tr>\n",
       "    <tr>\n",
       "      <th>3</th>\n",
       "      <td>the moon begins to rise upon my fallen eyes im...</td>\n",
       "      <td>Rock</td>\n",
       "    </tr>\n",
       "    <tr>\n",
       "      <th>4</th>\n",
       "      <td>i had a dream so big and loud i jumped so high...</td>\n",
       "      <td>Pop; Rock</td>\n",
       "    </tr>\n",
       "  </tbody>\n",
       "</table>\n",
       "</div>"
      ],
      "text/plain": [
       "                                               Lyric       Genres\n",
       "0  a folk of cheeriness and strength content with...  Heavy Metal\n",
       "1  if you aint got no money 4x if youre independe...          Pop\n",
       "2  come on i wanna dance in the dark come on were...          Pop\n",
       "3  the moon begins to rise upon my fallen eyes im...         Rock\n",
       "4  i had a dream so big and loud i jumped so high...    Pop; Rock"
      ]
     },
     "execution_count": 3,
     "metadata": {},
     "output_type": "execute_result"
    }
   ],
   "source": [
    "#join and shuffle data\n",
    "df = df.sample(frac=1).reset_index(drop=True) #sample shuffles the data\n",
    "df.head()"
   ]
  },
  {
   "cell_type": "code",
   "execution_count": 4,
   "id": "86853ba4",
   "metadata": {},
   "outputs": [],
   "source": [
    "indexNames = []\n",
    "for index, row in df.iterrows():\n",
    "    if len(row.Genres.split(\"; \"))>1: #or (row.Genres != \"Pop\" and row.Genres!=\"Rap\"):\n",
    "        indexNames.append(index)\n",
    "df = df.drop(indexNames)"
   ]
  },
  {
   "cell_type": "code",
   "execution_count": 5,
   "id": "3f36d1f3",
   "metadata": {},
   "outputs": [
    {
     "data": {
      "text/plain": [
       "'indexNames = []\\ncounters = dict()\\nfor index, row in df.iterrows():\\n    if row.Genres in counters:\\n        if counters[row.Genres]>=15000:\\n            indexNames.append(index)\\n        else:\\n            counters[row.Genres] += 1\\n    else:\\n        counters[row.Genres] = 1\\ndf = df.drop(indexNames)'"
      ]
     },
     "execution_count": 5,
     "metadata": {},
     "output_type": "execute_result"
    }
   ],
   "source": [
    "\"\"\"indexNames = []\n",
    "counters = dict()\n",
    "for index, row in df.iterrows():\n",
    "    if row.Genres in counters:\n",
    "        if counters[row.Genres]>=15000:\n",
    "            indexNames.append(index)\n",
    "        else:\n",
    "            counters[row.Genres] += 1\n",
    "    else:\n",
    "        counters[row.Genres] = 1\n",
    "df = df.drop(indexNames)\"\"\""
   ]
  },
  {
   "cell_type": "code",
   "execution_count": 6,
   "id": "5f3c1ff3",
   "metadata": {},
   "outputs": [],
   "source": [
    "x = np.array(df['Lyric']) #\"text\"\n",
    "y = np.array(df['Genres'])"
   ]
  },
  {
   "cell_type": "code",
   "execution_count": 7,
   "id": "73dbe490",
   "metadata": {},
   "outputs": [
    {
     "data": {
      "text/plain": [
       "'\\ngenres = []\\n\\nfor i in range(len(y)):\\n    genres.extend(y[i].split(\"; \"))\\n\\ngenres = set(genres)\\n\\ngenre_id = dict()\\n\\ni=0\\nfor genre in genres:\\n    genre_id[genre] = i\\n    i += 1\\n'"
      ]
     },
     "execution_count": 7,
     "metadata": {},
     "output_type": "execute_result"
    }
   ],
   "source": [
    "\"\"\"\n",
    "genres = []\n",
    "\n",
    "for i in range(len(y)):\n",
    "    genres.extend(y[i].split(\"; \"))\n",
    "\n",
    "genres = set(genres)\n",
    "\n",
    "genre_id = dict()\n",
    "\n",
    "i=0\n",
    "for genre in genres:\n",
    "    genre_id[genre] = i\n",
    "    i += 1\n",
    "\"\"\""
   ]
  },
  {
   "cell_type": "code",
   "execution_count": 8,
   "id": "c16adf88",
   "metadata": {},
   "outputs": [
    {
     "data": {
      "text/plain": [
       "<AxesSubplot:>"
      ]
     },
     "execution_count": 8,
     "metadata": {},
     "output_type": "execute_result"
    },
    {
     "data": {
      "image/png": "[encoded data removed]",
      "text/plain": [
       "<Figure size 432x288 with 1 Axes>"
      ]
     },
     "metadata": {
      "needs_background": "light"
     },
     "output_type": "display_data"
    }
   ],
   "source": [
    "df['Genres'].value_counts().plot.bar()"
   ]
  },
  {
   "cell_type": "code",
   "execution_count": 9,
   "id": "fb4696d1",
   "metadata": {},
   "outputs": [],
   "source": [
    "# tokenizer to transform text into tokens\n",
    "tokenizer = tf.keras.preprocessing.text.Tokenizer(\n",
    "    num_words=10000,\n",
    "    filters='!\"#$%&()*+,-./:;<=>?@[\\\\]^_`{|}~\\t\\n',\n",
    "    lower=True, split=' ', char_level=False, oov_token=None,\n",
    "    #document_count=0, **kwargs\n",
    ")\n",
    "\n",
    "# Updates internal vocabulary based on a list of texts.\n",
    "tokenizer.fit_on_texts(x)\n",
    "\n",
    "#Transforms each text in x to a sequence of integers.\n",
    "x = tokenizer.texts_to_sequences(x)\n",
    "\n",
    "#Pads sequences to the same length. In this case, with maxlen of 100 integers\n",
    "x = pad_sequences(x, maxlen = 250)\n",
    "\n",
    "\"\"\"\n",
    "new_y = []\n",
    "for string in y:\n",
    "    new_y.append([0 for _ in range(len(genres))])\n",
    "    for g in string.split(\"; \"):\n",
    "        new_y[-1][genre_id[g]]=1\n",
    "\n",
    "y = np.array(new_y)\n",
    "\"\"\"\n",
    "\n",
    "# tokenizer to transform text into tokens\n",
    "tokenizer = tf.keras.preprocessing.text.Tokenizer(\n",
    "    num_words=1000,\n",
    "    filters='!\"#$%&()*+,-./:;<=>?@[\\\\]^_`{|}~\\t\\n',\n",
    "    lower=True, split='; ', char_level=False, oov_token=None,\n",
    "    #document_count=0, **kwargs\n",
    ")\n",
    "\n",
    "# Updates internal vocabulary based on a list of texts.\n",
    "tokenizer.fit_on_texts(y)\n",
    "\n",
    "#Transforms each text in x to a sequence of integers.\n",
    "y = tokenizer.texts_to_sequences(y)\n",
    "\n",
    "y = np.array([elem[0]-1 for elem in y])"
   ]
  },
  {
   "cell_type": "code",
   "execution_count": 10,
   "id": "eb7cf660",
   "metadata": {},
   "outputs": [],
   "source": [
    "def LSTM_Model(vocab_size=10000, features=512, input_length=250, learning_rate=0.001, dropout=0):\n",
    "    model=Sequential()\n",
    "    # Embedding layer\n",
    "    model.add(Embedding(vocab_size,features,input_length=input_length))\n",
    "    # Long Short Term Memory layer\n",
    "    model.add(LSTM(256, dropout=dropout))\n",
    "    # Output layer\n",
    "    model.add(Dense(6,activation='sigmoid'))\n",
    "    model.compile(loss=keras.losses.sparse_categorical_crossentropy, optimizer=keras.optimizers.Adam(learning_rate=learning_rate), metrics=['accuracy'])\n",
    "    return model"
   ]
  },
  {
   "cell_type": "code",
   "execution_count": null,
   "id": "3767c43a",
   "metadata": {},
   "outputs": [
    {
     "name": "stderr",
     "output_type": "stream",
     "text": [
      "2022-07-03 15:53:58.439861: I tensorflow/stream_executor/cuda/cuda_gpu_executor.cc:936] successful NUMA node read from SysFS had negative value (-1), but there must be at least one NUMA node, so returning NUMA node zero\n",
      "2022-07-03 15:53:58.480926: I tensorflow/stream_executor/cuda/cuda_gpu_executor.cc:936] successful NUMA node read from SysFS had negative value (-1), but there must be at least one NUMA node, so returning NUMA node zero\n",
      "2022-07-03 15:53:58.481154: I tensorflow/stream_executor/cuda/cuda_gpu_executor.cc:936] successful NUMA node read from SysFS had negative value (-1), but there must be at least one NUMA node, so returning NUMA node zero\n",
      "2022-07-03 15:53:58.481919: I tensorflow/core/platform/cpu_feature_guard.cc:151] This TensorFlow binary is optimized with oneAPI Deep Neural Network Library (oneDNN) to use the following CPU instructions in performance-critical operations:  AVX2 FMA\n",
      "To enable them in other operations, rebuild TensorFlow with the appropriate compiler flags.\n",
      "2022-07-03 15:53:58.482291: I tensorflow/stream_executor/cuda/cuda_gpu_executor.cc:936] successful NUMA node read from SysFS had negative value (-1), but there must be at least one NUMA node, so returning NUMA node zero\n",
      "2022-07-03 15:53:58.482485: I tensorflow/stream_executor/cuda/cuda_gpu_executor.cc:936] successful NUMA node read from SysFS had negative value (-1), but there must be at least one NUMA node, so returning NUMA node zero\n",
      "2022-07-03 15:53:58.482641: I tensorflow/stream_executor/cuda/cuda_gpu_executor.cc:936] successful NUMA node read from SysFS had negative value (-1), but there must be at least one NUMA node, so returning NUMA node zero\n",
      "2022-07-03 15:53:58.867303: I tensorflow/stream_executor/cuda/cuda_gpu_executor.cc:936] successful NUMA node read from SysFS had negative value (-1), but there must be at least one NUMA node, so returning NUMA node zero\n",
      "2022-07-03 15:53:58.867535: I tensorflow/stream_executor/cuda/cuda_gpu_executor.cc:936] successful NUMA node read from SysFS had negative value (-1), but there must be at least one NUMA node, so returning NUMA node zero\n",
      "2022-07-03 15:53:58.867704: I tensorflow/stream_executor/cuda/cuda_gpu_executor.cc:936] successful NUMA node read from SysFS had negative value (-1), but there must be at least one NUMA node, so returning NUMA node zero\n",
      "2022-07-03 15:53:58.867833: I tensorflow/core/common_runtime/gpu/gpu_device.cc:1525] Created device /job:localhost/replica:0/task:0/device:GPU:0 with 3059 MB memory:  -> device: 0, name: NVIDIA GeForce GTX 960M, pci bus id: 0000:01:00.0, compute capability: 5.0\n"
     ]
    },
    {
     "name": "stdout",
     "output_type": "stream",
     "text": [
      "Epoch 1/34\n"
     ]
    },
    {
     "name": "stderr",
     "output_type": "stream",
     "text": [
      "2022-07-03 15:54:01.025362: I tensorflow/stream_executor/cuda/cuda_dnn.cc:368] Loaded cuDNN version 8400\n"
     ]
    },
    {
     "name": "stdout",
     "output_type": "stream",
     "text": [
      "1299/1299 [==============================] - 176s 134ms/step - loss: 0.9290 - accuracy: 0.6054 - val_loss: 0.7646 - val_accuracy: 0.6805\n",
      "Epoch 2/34\n",
      "1299/1299 [==============================] - 180s 139ms/step - loss: 0.6902 - accuracy: 0.7139 - val_loss: 0.7056 - val_accuracy: 0.7084\n",
      "Epoch 3/34\n",
      "1299/1299 [==============================] - 182s 140ms/step - loss: 0.5946 - accuracy: 0.7569 - val_loss: 0.7122 - val_accuracy: 0.7115\n",
      "Epoch 4/34\n",
      "1299/1299 [==============================] - 182s 140ms/step - loss: 0.5206 - accuracy: 0.7875 - val_loss: 0.7343 - val_accuracy: 0.7082\n",
      "Epoch 5/34\n",
      "1299/1299 [==============================] - 181s 140ms/step - loss: 0.4501 - accuracy: 0.8179 - val_loss: 0.7869 - val_accuracy: 0.6945\n",
      "Epoch 6/34\n",
      "1299/1299 [==============================] - 178s 137ms/step - loss: 0.3876 - accuracy: 0.8441 - val_loss: 0.8593 - val_accuracy: 0.6980\n",
      "Epoch 7/34\n",
      "1299/1299 [==============================] - 178s 137ms/step - loss: 0.3250 - accuracy: 0.8718 - val_loss: 0.9737 - val_accuracy: 0.6857\n",
      "Epoch 8/34\n",
      "1299/1299 [==============================] - 178s 137ms/step - loss: 0.2705 - accuracy: 0.8936 - val_loss: 1.1034 - val_accuracy: 0.6921\n",
      "Epoch 9/34\n",
      "1299/1299 [==============================] - 179s 138ms/step - loss: 0.2188 - accuracy: 0.9169 - val_loss: 1.2222 - val_accuracy: 0.6814\n",
      "Epoch 10/34\n",
      "1299/1299 [==============================] - 179s 138ms/step - loss: 0.1801 - accuracy: 0.9324 - val_loss: 1.3394 - val_accuracy: 0.6800\n",
      "Epoch 11/34\n",
      "1299/1299 [==============================] - 178s 137ms/step - loss: 0.1440 - accuracy: 0.9471 - val_loss: 1.5664 - val_accuracy: 0.6718\n",
      "Epoch 12/34\n",
      "1299/1299 [==============================] - 178s 137ms/step - loss: 0.1165 - accuracy: 0.9590 - val_loss: 1.6667 - val_accuracy: 0.6810\n",
      "Epoch 13/34\n",
      "1299/1299 [==============================] - 178s 137ms/step - loss: 0.0983 - accuracy: 0.9650 - val_loss: 1.7762 - val_accuracy: 0.6746\n",
      "Epoch 14/34\n",
      "1299/1299 [==============================] - 178s 137ms/step - loss: 0.0854 - accuracy: 0.9699 - val_loss: 1.8827 - val_accuracy: 0.6670\n",
      "Epoch 15/34\n",
      "1299/1299 [==============================] - 178s 137ms/step - loss: 0.0713 - accuracy: 0.9749 - val_loss: 1.9766 - val_accuracy: 0.6685\n",
      "Epoch 16/34\n",
      "1299/1299 [==============================] - 178s 137ms/step - loss: 0.0640 - accuracy: 0.9778 - val_loss: 2.0731 - val_accuracy: 0.6751\n",
      "Epoch 17/34\n",
      "1299/1299 [==============================] - 178s 137ms/step - loss: 0.0630 - accuracy: 0.9781 - val_loss: 2.1344 - val_accuracy: 0.6718\n",
      "Epoch 18/34\n",
      "1299/1299 [==============================] - 178s 137ms/step - loss: 0.0531 - accuracy: 0.9818 - val_loss: 2.1773 - val_accuracy: 0.6683\n",
      "Epoch 19/34\n",
      "1299/1299 [==============================] - 178s 137ms/step - loss: 0.0519 - accuracy: 0.9820 - val_loss: 2.2192 - val_accuracy: 0.6717\n",
      "Epoch 20/34\n",
      "1211/1299 [==========================>...] - ETA: 11s - loss: 0.0467 - accuracy: 0.9835"
     ]
    }
   ],
   "source": [
    "x_train, x_test, y_train, y_test = train_test_split(x, y, test_size=0.2, random_state=0)\n",
    "model = LSTM_Model()\n",
    "res = model.fit(x_train,y_train,validation_data=(x_test,y_test),epochs=34,batch_size=64)"
   ]
  }
 ],
 "metadata": {
  "kernelspec": {
   "display_name": "Python 3 (ipykernel)",
   "language": "python",
   "name": "python3"
  },
  "language_info": {
   "codemirror_mode": {
    "name": "ipython",
    "version": 3
   },
   "file_extension": ".py",
   "mimetype": "text/x-python",
   "name": "python",
   "nbconvert_exporter": "python",
   "pygments_lexer": "ipython3",
   "version": "3.8.10"
  }
 },
 "nbformat": 4,
 "nbformat_minor": 5
}
