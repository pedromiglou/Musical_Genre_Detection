{
 "cells": [
  {
   "cell_type": "markdown",
   "id": "1f04e1d8",
   "metadata": {},
   "source": [
    "## Imports"
   ]
  },
  {
   "cell_type": "code",
   "execution_count": 1,
   "id": "405f8650",
   "metadata": {},
   "outputs": [],
   "source": [
    "from utils import *\n",
    "import numpy as np\n",
    "import pandas as pd\n",
    "import os\n",
    "import matplotlib.pyplot as plt\n",
    "import tensorflow as tf\n",
    "from tensorflow import keras\n",
    "from tensorflow.keras.layers import Conv1D\n",
    "from tensorflow.keras.layers import Dense\n",
    "from tensorflow.keras.layers import Embedding\n",
    "from tensorflow.keras.layers import GlobalMaxPooling1D\n",
    "from tensorflow.keras.layers import LSTM\n",
    "from tensorflow.keras.models import Sequential\n",
    "from tensorflow.keras.preprocessing.sequence import pad_sequences\n",
    "from sklearn.model_selection import train_test_split, KFold\n",
    "from sklearn.metrics import classification_report, confusion_matrix"
   ]
  },
  {
   "cell_type": "markdown",
   "id": "dd6a4942",
   "metadata": {},
   "source": [
    "## Read/Transform Data"
   ]
  },
  {
   "cell_type": "code",
   "execution_count": 2,
   "id": "48994e3b",
   "metadata": {},
   "outputs": [],
   "source": [
    "VOCAB_SIZE = 16384\n",
    "INPUT_LENGTH = 265\n",
    "NUM_CLASSES = 5"
   ]
  },
  {
   "cell_type": "code",
   "execution_count": 3,
   "id": "e9da6ad2",
   "metadata": {},
   "outputs": [],
   "source": [
    "#read data\n",
    "df = pd.read_csv('cleaned-data.csv')"
   ]
  },
  {
   "cell_type": "code",
   "execution_count": 4,
   "id": "da8962f2",
   "metadata": {},
   "outputs": [
    {
     "data": {
      "text/html": [
       "<div>\n",
       "<style scoped>\n",
       "    .dataframe tbody tr th:only-of-type {\n",
       "        vertical-align: middle;\n",
       "    }\n",
       "\n",
       "    .dataframe tbody tr th {\n",
       "        vertical-align: top;\n",
       "    }\n",
       "\n",
       "    .dataframe thead th {\n",
       "        text-align: right;\n",
       "    }\n",
       "</style>\n",
       "<table border=\"1\" class=\"dataframe\">\n",
       "  <thead>\n",
       "    <tr style=\"text-align: right;\">\n",
       "      <th></th>\n",
       "      <th>Lyric</th>\n",
       "      <th>Genres</th>\n",
       "    </tr>\n",
       "  </thead>\n",
       "  <tbody>\n",
       "    <tr>\n",
       "      <th>0</th>\n",
       "      <td>the futures counting down gotta get out of it ...</td>\n",
       "      <td>Rock</td>\n",
       "    </tr>\n",
       "    <tr>\n",
       "      <th>1</th>\n",
       "      <td>queen of all my sleepless nights for whose bea...</td>\n",
       "      <td>Heavy Metal</td>\n",
       "    </tr>\n",
       "    <tr>\n",
       "      <th>2</th>\n",
       "      <td>midnight in the village seeger lights the cand...</td>\n",
       "      <td>Rock</td>\n",
       "    </tr>\n",
       "    <tr>\n",
       "      <th>3</th>\n",
       "      <td>dear marshall dear marshall i just wanna start...</td>\n",
       "      <td>Hip Hop</td>\n",
       "    </tr>\n",
       "    <tr>\n",
       "      <th>4</th>\n",
       "      <td>pour the wine light revives lowering walls tha...</td>\n",
       "      <td>Rock</td>\n",
       "    </tr>\n",
       "  </tbody>\n",
       "</table>\n",
       "</div>"
      ],
      "text/plain": [
       "                                               Lyric       Genres\n",
       "0  the futures counting down gotta get out of it ...         Rock\n",
       "1  queen of all my sleepless nights for whose bea...  Heavy Metal\n",
       "2  midnight in the village seeger lights the cand...         Rock\n",
       "3  dear marshall dear marshall i just wanna start...      Hip Hop\n",
       "4  pour the wine light revives lowering walls tha...         Rock"
      ]
     },
     "execution_count": 4,
     "metadata": {},
     "output_type": "execute_result"
    }
   ],
   "source": [
    "#join and shuffle data\n",
    "df = df.sample(frac=1).reset_index(drop=True) #sample shuffles the data\n",
    "df.head()"
   ]
  },
  {
   "cell_type": "code",
   "execution_count": 5,
   "id": "86853ba4",
   "metadata": {},
   "outputs": [],
   "source": [
    "indexNames = []\n",
    "for index, row in df.iterrows():\n",
    "    if len(row.Genres.split(\"; \"))>1: #or (row.Genres != \"Pop\" and row.Genres!=\"Rap\"):\n",
    "        indexNames.append(index)\n",
    "df = df.drop(indexNames)"
   ]
  },
  {
   "cell_type": "code",
   "execution_count": 6,
   "id": "3f36d1f3",
   "metadata": {},
   "outputs": [
    {
     "data": {
      "text/plain": [
       "'indexNames = []\\ncounters = dict()\\nfor index, row in df.iterrows():\\n    if row.Genres in counters:\\n        if counters[row.Genres]>=15000:\\n            indexNames.append(index)\\n        else:\\n            counters[row.Genres] += 1\\n    else:\\n        counters[row.Genres] = 1\\ndf = df.drop(indexNames)'"
      ]
     },
     "execution_count": 6,
     "metadata": {},
     "output_type": "execute_result"
    }
   ],
   "source": [
    "\"\"\"indexNames = []\n",
    "counters = dict()\n",
    "for index, row in df.iterrows():\n",
    "    if row.Genres in counters:\n",
    "        if counters[row.Genres]>=15000:\n",
    "            indexNames.append(index)\n",
    "        else:\n",
    "            counters[row.Genres] += 1\n",
    "    else:\n",
    "        counters[row.Genres] = 1\n",
    "df = df.drop(indexNames)\"\"\""
   ]
  },
  {
   "cell_type": "code",
   "execution_count": 7,
   "id": "5f3c1ff3",
   "metadata": {},
   "outputs": [],
   "source": [
    "x = np.array(df['Lyric']) #\"text\"\n",
    "y = np.array(df['Genres'])"
   ]
  },
  {
   "cell_type": "code",
   "execution_count": 8,
   "id": "73dbe490",
   "metadata": {},
   "outputs": [
    {
     "data": {
      "text/plain": [
       "'\\ngenres = []\\n\\nfor i in range(len(y)):\\n    genres.extend(y[i].split(\"; \"))\\n\\ngenres = set(genres)\\n\\ngenre_id = dict()\\n\\ni=0\\nfor genre in genres:\\n    genre_id[genre] = i\\n    i += 1\\n'"
      ]
     },
     "execution_count": 8,
     "metadata": {},
     "output_type": "execute_result"
    }
   ],
   "source": [
    "\"\"\"\n",
    "genres = []\n",
    "\n",
    "for i in range(len(y)):\n",
    "    genres.extend(y[i].split(\"; \"))\n",
    "\n",
    "genres = set(genres)\n",
    "\n",
    "genre_id = dict()\n",
    "\n",
    "i=0\n",
    "for genre in genres:\n",
    "    genre_id[genre] = i\n",
    "    i += 1\n",
    "\"\"\""
   ]
  },
  {
   "cell_type": "code",
   "execution_count": 9,
   "id": "c16adf88",
   "metadata": {},
   "outputs": [
    {
     "data": {
      "text/plain": [
       "<AxesSubplot:>"
      ]
     },
     "execution_count": 9,
     "metadata": {},
     "output_type": "execute_result"
    },
    {
     "data": {
      "image/png": "[encoded data removed]",
      "text/plain": [
       "<Figure size 432x288 with 1 Axes>"
      ]
     },
     "metadata": {
      "needs_background": "light"
     },
     "output_type": "display_data"
    }
   ],
   "source": [
    "df['Genres'].value_counts().plot.bar()"
   ]
  },
  {
   "cell_type": "code",
   "execution_count": 10,
   "id": "fb4696d1",
   "metadata": {},
   "outputs": [],
   "source": [
    "# tokenizer to transform text into tokens\n",
    "tokenizer = tf.keras.preprocessing.text.Tokenizer(\n",
    "    num_words=VOCAB_SIZE,\n",
    "    filters='!\"#$%&()*+,-./:;<=>?@[\\\\]^_`{|}~\\t\\n',\n",
    "    lower=True, split=' ', char_level=False, oov_token=None,\n",
    "    #document_count=0, **kwargs\n",
    ")\n",
    "\n",
    "# Updates internal vocabulary based on a list of texts.\n",
    "tokenizer.fit_on_texts(x)\n",
    "\n",
    "#Transforms each text in x to a sequence of integers.\n",
    "x = tokenizer.texts_to_sequences(x)\n",
    "\n",
    "#Pads sequences to the same length. In this case, with maxlen of 100 integers\n",
    "x = pad_sequences(x, maxlen = INPUT_LENGTH)\n",
    "\n",
    "\"\"\"\n",
    "new_y = []\n",
    "for string in y:\n",
    "    new_y.append([0 for _ in range(len(genres))])\n",
    "    for g in string.split(\"; \"):\n",
    "        new_y[-1][genre_id[g]]=1\n",
    "\n",
    "y = np.array(new_y)\n",
    "\"\"\"\n",
    "\n",
    "# tokenizer to transform text into tokens\n",
    "tokenizer = tf.keras.preprocessing.text.Tokenizer(\n",
    "    num_words=1000,\n",
    "    filters='!\"#$%&()*+,-./:;<=>?@[\\\\]^_`{|}~\\t\\n',\n",
    "    lower=True, split='; ', char_level=False, oov_token=None,\n",
    "    #document_count=0, **kwargs\n",
    ")\n",
    "\n",
    "# Updates internal vocabulary based on a list of texts.\n",
    "tokenizer.fit_on_texts(y)\n",
    "\n",
    "#Transforms each text in x to a sequence of integers.\n",
    "y = tokenizer.texts_to_sequences(y)\n",
    "\n",
    "y = np.array([elem[0]-1 for elem in y])"
   ]
  },
  {
   "cell_type": "code",
   "execution_count": 11,
   "id": "9c4b56da",
   "metadata": {},
   "outputs": [],
   "source": [
    "x_train, y_train, x_val, y_val, x_test, y_test = split(x, y)"
   ]
  },
  {
   "cell_type": "markdown",
   "id": "af3d7e36",
   "metadata": {},
   "source": [
    "## Model"
   ]
  },
  {
   "cell_type": "code",
   "execution_count": 12,
   "id": "eb7cf660",
   "metadata": {},
   "outputs": [],
   "source": [
    "def LSTM_Model(features=512, dropout=0.7, neurons=256):\n",
    "    model=Sequential()\n",
    "    # Embedding layer\n",
    "    model.add(Embedding(VOCAB_SIZE,features,input_length=INPUT_LENGTH))\n",
    "    # Long Short Term Memory layer\n",
    "    model.add(LSTM(neurons, dropout=dropout))\n",
    "    # Output layer\n",
    "    model.add(Dense(NUM_CLASSES,activation='sigmoid'))\n",
    "    model.compile(loss=keras.losses.sparse_categorical_crossentropy, optimizer=keras.optimizers.Adam(learning_rate=0.001), metrics=['accuracy'])\n",
    "    return model"
   ]
  },
  {
   "cell_type": "code",
   "execution_count": 13,
   "id": "5c4c6758",
   "metadata": {},
   "outputs": [
    {
     "name": "stderr",
     "output_type": "stream",
     "text": [
      "2022-07-04 14:34:15.591045: I tensorflow/stream_executor/cuda/cuda_gpu_executor.cc:936] successful NUMA node read from SysFS had negative value (-1), but there must be at least one NUMA node, so returning NUMA node zero\n",
      "2022-07-04 14:34:23.091597: I tensorflow/stream_executor/cuda/cuda_gpu_executor.cc:936] successful NUMA node read from SysFS had negative value (-1), but there must be at least one NUMA node, so returning NUMA node zero\n",
      "2022-07-04 14:34:23.092672: I tensorflow/stream_executor/cuda/cuda_gpu_executor.cc:936] successful NUMA node read from SysFS had negative value (-1), but there must be at least one NUMA node, so returning NUMA node zero\n",
      "2022-07-04 14:34:23.138088: I tensorflow/core/platform/cpu_feature_guard.cc:151] This TensorFlow binary is optimized with oneAPI Deep Neural Network Library (oneDNN) to use the following CPU instructions in performance-critical operations:  AVX2 FMA\n",
      "To enable them in other operations, rebuild TensorFlow with the appropriate compiler flags.\n",
      "2022-07-04 14:34:23.139822: I tensorflow/stream_executor/cuda/cuda_gpu_executor.cc:936] successful NUMA node read from SysFS had negative value (-1), but there must be at least one NUMA node, so returning NUMA node zero\n",
      "2022-07-04 14:34:23.141044: I tensorflow/stream_executor/cuda/cuda_gpu_executor.cc:936] successful NUMA node read from SysFS had negative value (-1), but there must be at least one NUMA node, so returning NUMA node zero\n",
      "2022-07-04 14:34:23.141677: I tensorflow/stream_executor/cuda/cuda_gpu_executor.cc:936] successful NUMA node read from SysFS had negative value (-1), but there must be at least one NUMA node, so returning NUMA node zero\n",
      "2022-07-04 14:34:43.543962: I tensorflow/stream_executor/cuda/cuda_gpu_executor.cc:936] successful NUMA node read from SysFS had negative value (-1), but there must be at least one NUMA node, so returning NUMA node zero\n",
      "2022-07-04 14:34:43.544586: I tensorflow/stream_executor/cuda/cuda_gpu_executor.cc:936] successful NUMA node read from SysFS had negative value (-1), but there must be at least one NUMA node, so returning NUMA node zero\n",
      "2022-07-04 14:34:43.545114: I tensorflow/stream_executor/cuda/cuda_gpu_executor.cc:936] successful NUMA node read from SysFS had negative value (-1), but there must be at least one NUMA node, so returning NUMA node zero\n",
      "2022-07-04 14:34:43.583033: I tensorflow/core/common_runtime/gpu/gpu_device.cc:1525] Created device /job:localhost/replica:0/task:0/device:GPU:0 with 3078 MB memory:  -> device: 0, name: NVIDIA GeForce GTX 960M, pci bus id: 0000:01:00.0, compute capability: 5.0\n"
     ]
    },
    {
     "name": "stdout",
     "output_type": "stream",
     "text": [
      "Model: \"sequential\"\n",
      "_________________________________________________________________\n",
      " Layer (type)                Output Shape              Param #   \n",
      "=================================================================\n",
      " embedding (Embedding)       (None, 265, 512)          8388608   \n",
      "                                                                 \n",
      " lstm (LSTM)                 (None, 256)               787456    \n",
      "                                                                 \n",
      " dense (Dense)               (None, 5)                 1285      \n",
      "                                                                 \n",
      "=================================================================\n",
      "Total params: 9,177,349\n",
      "Trainable params: 9,177,349\n",
      "Non-trainable params: 0\n",
      "_________________________________________________________________\n"
     ]
    }
   ],
   "source": [
    "model = LSTM_Model()\n",
    "model.summary()"
   ]
  },
  {
   "cell_type": "markdown",
   "id": "1564ba37",
   "metadata": {},
   "source": [
    "## Validation and Testing"
   ]
  },
  {
   "cell_type": "code",
   "execution_count": 14,
   "id": "3767c43a",
   "metadata": {},
   "outputs": [
    {
     "name": "stdout",
     "output_type": "stream",
     "text": [
      "Epoch 1/3\n"
     ]
    },
    {
     "name": "stderr",
     "output_type": "stream",
     "text": [
      "2022-07-04 14:35:10.993940: I tensorflow/stream_executor/cuda/cuda_dnn.cc:368] Loaded cuDNN version 8400\n"
     ]
    },
    {
     "name": "stdout",
     "output_type": "stream",
     "text": [
      "1762/1762 [==============================] - 194s 96ms/step - loss: 1.0061 - accuracy: 0.5525 - val_loss: 0.8144 - val_accuracy: 0.6485\n",
      "Epoch 2/3\n",
      "1762/1762 [==============================] - 168s 95ms/step - loss: 0.7324 - accuracy: 0.6863 - val_loss: 0.7561 - val_accuracy: 0.6853\n",
      "Epoch 3/3\n",
      "1762/1762 [==============================] - 180s 102ms/step - loss: 0.6110 - accuracy: 0.7479 - val_loss: 0.7449 - val_accuracy: 0.6907\n"
     ]
    }
   ],
   "source": [
    "epochs = 3\n",
    "\n",
    "results = model.fit(x_train,y_train,validation_data=(x_val,y_val),epochs=epochs)"
   ]
  },
  {
   "cell_type": "code",
   "execution_count": 15,
   "id": "52b2b394",
   "metadata": {},
   "outputs": [
    {
     "data": {
      "image/png": "[encoded data removed]",
      "text/plain": [
       "<Figure size 720x360 with 1 Axes>"
      ]
     },
     "metadata": {
      "needs_background": "light"
     },
     "output_type": "display_data"
    }
   ],
   "source": [
    "plot_accuracy_comparison([results.history[\"accuracy\"], results.history[\"val_accuracy\"]],\n",
    "                        \"Training/Validation Accuracy Comparison\",\n",
    "                        [\"Training Accuracy\", \"Validation Accuracy\"])"
   ]
  },
  {
   "cell_type": "code",
   "execution_count": 16,
   "id": "83b7d7b2",
   "metadata": {},
   "outputs": [
    {
     "data": {
      "image/png": "[encoded data removed]",
      "text/plain": [
       "<Figure size 720x360 with 1 Axes>"
      ]
     },
     "metadata": {
      "needs_background": "light"
     },
     "output_type": "display_data"
    }
   ],
   "source": [
    "plot_loss_comparison([results.history[\"loss\"], results.history[\"val_loss\"]],\n",
    "                     \"Training/Validation Loss Comparison\",\n",
    "                     [\"Training Loss\", \"Validation Loss\"])"
   ]
  },
  {
   "cell_type": "code",
   "execution_count": 17,
   "id": "3a92d9f3",
   "metadata": {},
   "outputs": [
    {
     "name": "stdout",
     "output_type": "stream",
     "text": [
      "Epoch 1/3\n",
      "2350/2350 [==============================] - 243s 103ms/step - loss: 0.9322 - accuracy: 0.5837\n",
      "Epoch 2/3\n",
      "2350/2350 [==============================] - 243s 103ms/step - loss: 0.6932 - accuracy: 0.7044\n",
      "Epoch 3/3\n",
      "2350/2350 [==============================] - 243s 103ms/step - loss: 0.5959 - accuracy: 0.7532\n",
      "588/588 [==============================] - 21s 35ms/step - loss: 0.7068 - accuracy: 0.7048\n",
      "Test Loss: 0.7067761421203613\n",
      "Test Accuracy: 0.7047836780548096\n",
      "              precision    recall  f1-score   support\n",
      "\n",
      "           0       0.79      0.68      0.73      9257\n",
      "           1       0.54      0.63      0.58      4589\n",
      "           2       0.80      0.88      0.84      3124\n",
      "           3       0.65      0.72      0.68      1823\n",
      "\n",
      "    accuracy                           0.70     18793\n",
      "   macro avg       0.70      0.73      0.71     18793\n",
      "weighted avg       0.72      0.70      0.71     18793\n",
      "\n"
     ]
    }
   ],
   "source": [
    "model = LSTM_Model()\n",
    "results = model.fit(np.concatenate((x_train,x_val)), np.concatenate((y_train,y_val)), epochs=epochs)\n",
    "loss, acc = model.evaluate(x_test, y_test)\n",
    "print(\"Test Loss:\", loss)\n",
    "print(\"Test Accuracy:\", acc)\n",
    "\n",
    "# show confusion matrix\n",
    "y_pred=np.argmax(model.predict(x_test), axis=-1)\n",
    "#plot_confusion_matrix(y_test, y_pred)\n",
    "\n",
    "# show other metrics\n",
    "print(classification_report(y_pred,y_test))"
   ]
  },
  {
   "cell_type": "markdown",
   "id": "e569c13d",
   "metadata": {},
   "source": [
    "## Hyper-Parameter Selection"
   ]
  },
  {
   "cell_type": "markdown",
   "id": "afa341a7",
   "metadata": {},
   "source": [
    "### Epochs"
   ]
  },
  {
   "cell_type": "code",
   "execution_count": 18,
   "id": "3a176933",
   "metadata": {},
   "outputs": [
    {
     "name": "stdout",
     "output_type": "stream",
     "text": [
      "Epoch 1/10\n",
      "1762/1762 [==============================] - 200s 112ms/step - loss: 0.9834 - accuracy: 0.5614 - val_loss: 0.8343 - val_accuracy: 0.6303\n",
      "Epoch 2/10\n",
      "1762/1762 [==============================] - 200s 114ms/step - loss: 0.7323 - accuracy: 0.6871 - val_loss: 0.7484 - val_accuracy: 0.6772\n",
      "Epoch 3/10\n",
      "1762/1762 [==============================] - 203s 115ms/step - loss: 0.6123 - accuracy: 0.7458 - val_loss: 0.7433 - val_accuracy: 0.6902\n",
      "Epoch 4/10\n",
      "1762/1762 [==============================] - 197s 112ms/step - loss: 0.5180 - accuracy: 0.7886 - val_loss: 0.7948 - val_accuracy: 0.6838\n",
      "Epoch 5/10\n",
      "1762/1762 [==============================] - 205s 117ms/step - loss: 0.4380 - accuracy: 0.8245 - val_loss: 0.8467 - val_accuracy: 0.6755\n",
      "Epoch 6/10\n",
      "1762/1762 [==============================] - 213s 121ms/step - loss: 0.3728 - accuracy: 0.8526 - val_loss: 0.9553 - val_accuracy: 0.6704\n",
      "Epoch 7/10\n",
      "1762/1762 [==============================] - 200s 114ms/step - loss: 0.3178 - accuracy: 0.8784 - val_loss: 1.0864 - val_accuracy: 0.6586\n",
      "Epoch 8/10\n",
      "1762/1762 [==============================] - 208s 118ms/step - loss: 0.2716 - accuracy: 0.8957 - val_loss: 1.1576 - val_accuracy: 0.6615\n",
      "Epoch 9/10\n",
      "1762/1762 [==============================] - 208s 118ms/step - loss: 0.2354 - accuracy: 0.9101 - val_loss: 1.2741 - val_accuracy: 0.6585\n",
      "Epoch 10/10\n",
      "1762/1762 [==============================] - 195s 111ms/step - loss: 0.2082 - accuracy: 0.9217 - val_loss: 1.3893 - val_accuracy: 0.6646\n"
     ]
    }
   ],
   "source": [
    "model = LSTM_Model()\n",
    "results = model.fit(x_train, y_train, validation_data=(x_val,y_val), epochs=10)"
   ]
  },
  {
   "cell_type": "code",
   "execution_count": 19,
   "id": "4ba21435",
   "metadata": {},
   "outputs": [
    {
     "data": {
      "image/png": "[encoded data removed]",
      "text/plain": [
       "<Figure size 720x360 with 1 Axes>"
      ]
     },
     "metadata": {
      "needs_background": "light"
     },
     "output_type": "display_data"
    }
   ],
   "source": [
    "plot_accuracy_comparison([results.history[\"accuracy\"], results.history[\"val_accuracy\"]],\n",
    "                        \"Training/Validation Accuracy Comparison\",\n",
    "                        [\"Training Accuracy\", \"Validation Accuracy\"])"
   ]
  },
  {
   "cell_type": "code",
   "execution_count": 20,
   "id": "b56b6cd1",
   "metadata": {},
   "outputs": [
    {
     "data": {
      "image/png": "[encoded data removed]",
      "text/plain": [
       "<Figure size 720x360 with 1 Axes>"
      ]
     },
     "metadata": {
      "needs_background": "light"
     },
     "output_type": "display_data"
    }
   ],
   "source": [
    "plot_loss_comparison([results.history[\"loss\"], results.history[\"val_loss\"]],\n",
    "                     \"Training/Validation Loss Comparison\",\n",
    "                     [\"Training Loss\", \"Validation Loss\"])"
   ]
  },
  {
   "cell_type": "markdown",
   "id": "24f342f7",
   "metadata": {},
   "source": [
    "### Dropout Rate"
   ]
  },
  {
   "cell_type": "code",
   "execution_count": null,
   "id": "6b1f472e",
   "metadata": {},
   "outputs": [
    {
     "name": "stdout",
     "output_type": "stream",
     "text": [
      "Epoch 1/3\n",
      "1762/1762 [==============================] - 188s 105ms/step - loss: 0.9464 - accuracy: 0.5765 - val_loss: 0.8169 - val_accuracy: 0.6166\n",
      "Epoch 2/3\n",
      "1762/1762 [==============================] - 184s 105ms/step - loss: 0.6928 - accuracy: 0.7055 - val_loss: 0.7432 - val_accuracy: 0.6845\n",
      "Epoch 3/3\n",
      "1762/1762 [==============================] - 200s 114ms/step - loss: 0.5651 - accuracy: 0.7663 - val_loss: 0.7686 - val_accuracy: 0.6871\n",
      "Epoch 1/3\n",
      "1762/1762 [==============================] - 214s 120ms/step - loss: 0.9462 - accuracy: 0.5795 - val_loss: 0.7932 - val_accuracy: 0.6634\n",
      "Epoch 2/3\n",
      "1762/1762 [==============================] - 210s 119ms/step - loss: 0.6964 - accuracy: 0.7037 - val_loss: 0.7501 - val_accuracy: 0.6792\n",
      "Epoch 3/3\n",
      "1762/1762 [==============================] - 214s 121ms/step - loss: 0.5649 - accuracy: 0.7650 - val_loss: 0.7733 - val_accuracy: 0.6875\n",
      "Epoch 1/3\n",
      "1762/1762 [==============================] - 215s 121ms/step - loss: 0.9592 - accuracy: 0.5713 - val_loss: 0.9410 - val_accuracy: 0.5896\n",
      "Epoch 2/3\n",
      "1762/1762 [==============================] - 210s 119ms/step - loss: 0.7114 - accuracy: 0.6973 - val_loss: 0.7477 - val_accuracy: 0.6825\n",
      "Epoch 3/3\n",
      "1762/1762 [==============================] - 194s 110ms/step - loss: 0.5758 - accuracy: 0.7615 - val_loss: 0.7785 - val_accuracy: 0.6873\n",
      "Epoch 1/3\n",
      "1762/1762 [==============================] - 193s 109ms/step - loss: 0.9771 - accuracy: 0.5658 - val_loss: 0.8108 - val_accuracy: 0.6498\n",
      "Epoch 2/3\n",
      "1762/1762 [==============================] - 194s 110ms/step - loss: 0.7109 - accuracy: 0.7007 - val_loss: 0.7670 - val_accuracy: 0.6666\n",
      "Epoch 3/3\n",
      "1762/1762 [==============================] - 194s 110ms/step - loss: 0.5967 - accuracy: 0.7566 - val_loss: 0.7733 - val_accuracy: 0.6789\n",
      "Epoch 1/3\n",
      "1762/1762 [==============================] - 196s 110ms/step - loss: 0.9665 - accuracy: 0.5723 - val_loss: 0.8311 - val_accuracy: 0.6289\n",
      "Epoch 2/3\n",
      "1762/1762 [==============================] - 183s 104ms/step - loss: 0.7278 - accuracy: 0.6892 - val_loss: 0.7637 - val_accuracy: 0.6818\n",
      "Epoch 3/3\n",
      "1762/1762 [==============================] - 171s 97ms/step - loss: 0.5978 - accuracy: 0.7500 - val_loss: 0.7644 - val_accuracy: 0.6742\n",
      "Epoch 1/3\n",
      "1762/1762 [==============================] - 172s 97ms/step - loss: 1.0145 - accuracy: 0.5492 - val_loss: 0.8473 - val_accuracy: 0.6318\n",
      "Epoch 2/3\n",
      "1762/1762 [==============================] - 179s 102ms/step - loss: 0.7788 - accuracy: 0.6642 - val_loss: 0.7681 - val_accuracy: 0.6743\n",
      "Epoch 3/3\n",
      "1762/1762 [==============================] - 208s 118ms/step - loss: 0.6550 - accuracy: 0.7255 - val_loss: 0.7684 - val_accuracy: 0.6862\n",
      "Epoch 1/3\n",
      "1762/1762 [==============================] - 209s 117ms/step - loss: 1.0240 - accuracy: 0.5423 - val_loss: 0.8797 - val_accuracy: 0.6174\n",
      "Epoch 2/3\n",
      " 632/1762 [=========>....................] - ETA: 2:03 - loss: 0.7997 - accuracy: 0.6507"
     ]
    }
   ],
   "source": [
    "dropout_rates=[]\n",
    "acc = []\n",
    "loss = []\n",
    "\n",
    "dp = 0\n",
    "while dp <= 0.9:\n",
    "    model = LSTM_Model(dropout=dp)\n",
    "    results = model.fit(x_train, y_train, validation_data=(x_val,y_val), epochs=epochs)\n",
    "\n",
    "    acc.append(results.history[\"val_accuracy\"])\n",
    "    loss.append(results.history[\"val_loss\"])\n",
    "    dropout_rates.append(dp)\n",
    "    dp += 0.1"
   ]
  },
  {
   "cell_type": "code",
   "execution_count": null,
   "id": "d714072e",
   "metadata": {},
   "outputs": [],
   "source": [
    "plot_accuracy_comparison(acc, \"Learning Rate Comparison (Validation Accuracy)\", dropout_rates)"
   ]
  },
  {
   "cell_type": "code",
   "execution_count": null,
   "id": "91cea8b7",
   "metadata": {},
   "outputs": [],
   "source": [
    "plot_loss_comparison(loss, \"Learning Rate Comparison (Validation Loss)\", dropout_rates)"
   ]
  },
  {
   "cell_type": "markdown",
   "id": "a1cbc4a7",
   "metadata": {},
   "source": [
    "### Features"
   ]
  },
  {
   "cell_type": "code",
   "execution_count": null,
   "id": "c96fca77",
   "metadata": {},
   "outputs": [],
   "source": [
    "features=[]\n",
    "acc = []\n",
    "loss = []\n",
    "\n",
    "f = 32\n",
    "while f <= 512:\n",
    "    model = LSTM_Model(features=f)\n",
    "    results = model.fit(x_train, y_train, validation_data=(x_val,y_val), epochs=epochs)\n",
    "\n",
    "    acc.append(results.history[\"val_accuracy\"])\n",
    "    loss.append(results.history[\"val_loss\"])\n",
    "    features.append(f)\n",
    "    f *= 2"
   ]
  },
  {
   "cell_type": "code",
   "execution_count": null,
   "id": "ceb3a36d",
   "metadata": {},
   "outputs": [],
   "source": [
    "plot_accuracy_comparison(acc, \"Learning Rate Comparison (Validation Accuracy)\", features)"
   ]
  },
  {
   "cell_type": "code",
   "execution_count": null,
   "id": "363f39dc",
   "metadata": {},
   "outputs": [],
   "source": [
    "plot_loss_comparison(loss, \"Learning Rate Comparison (Validation Loss)\", features)"
   ]
  },
  {
   "cell_type": "markdown",
   "id": "5b33258d",
   "metadata": {},
   "source": [
    "### Neurons"
   ]
  },
  {
   "cell_type": "code",
   "execution_count": null,
   "id": "91d5891d",
   "metadata": {},
   "outputs": [],
   "source": [
    "neurons=[]\n",
    "acc = []\n",
    "loss = []\n",
    "\n",
    "n = 32\n",
    "while n <= 512:\n",
    "    model = LSTM_Model(neurons=n)\n",
    "    results = model.fit(x_train, y_train, validation_data=(x_val,y_val), epochs=epochs)\n",
    "\n",
    "    acc.append(results.history[\"val_accuracy\"])\n",
    "    loss.append(results.history[\"val_loss\"])\n",
    "    neurons.append(n)\n",
    "    n *= 2"
   ]
  },
  {
   "cell_type": "code",
   "execution_count": null,
   "id": "11179b56",
   "metadata": {},
   "outputs": [],
   "source": [
    "plot_accuracy_comparison(acc, \"Learning Rate Comparison (Validation Accuracy)\", neurons)"
   ]
  },
  {
   "cell_type": "code",
   "execution_count": null,
   "id": "288a0056",
   "metadata": {},
   "outputs": [],
   "source": [
    "plot_loss_comparison(loss, \"Learning Rate Comparison (Validation Loss)\", neurons)"
   ]
  }
 ],
 "metadata": {
  "kernelspec": {
   "display_name": "Python 3 (ipykernel)",
   "language": "python",
   "name": "python3"
  },
  "language_info": {
   "codemirror_mode": {
    "name": "ipython",
    "version": 3
   },
   "file_extension": ".py",
   "mimetype": "text/x-python",
   "name": "python",
   "nbconvert_exporter": "python",
   "pygments_lexer": "ipython3",
   "version": "3.8.10"
  }
 },
 "nbformat": 4,
 "nbformat_minor": 5
}
