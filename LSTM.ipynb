{
 "cells": [
  {
   "cell_type": "markdown",
   "id": "1f04e1d8",
   "metadata": {},
   "source": [
    "## Imports"
   ]
  },
  {
   "cell_type": "code",
   "execution_count": 1,
   "id": "405f8650",
   "metadata": {},
   "outputs": [],
   "source": [
    "from utils import *\n",
    "import numpy as np\n",
    "import pandas as pd\n",
    "import matplotlib.pyplot as plt\n",
    "import tensorflow as tf\n",
    "from tensorflow import keras\n",
    "from tensorflow.keras.layers import Dense\n",
    "from tensorflow.keras.layers import Embedding\n",
    "from tensorflow.keras.layers import LSTM\n",
    "from tensorflow.keras.models import Sequential\n",
    "from tensorflow.keras.preprocessing.sequence import pad_sequences\n",
    "from sklearn.metrics import classification_report"
   ]
  },
  {
   "cell_type": "markdown",
   "id": "dd6a4942",
   "metadata": {},
   "source": [
    "## Read/Transform Data"
   ]
  },
  {
   "cell_type": "code",
   "execution_count": 2,
   "id": "48994e3b",
   "metadata": {},
   "outputs": [],
   "source": [
    "VOCAB_SIZE = 16384\n",
    "INPUT_LENGTH = 265\n",
    "NUM_CLASSES = 5"
   ]
  },
  {
   "cell_type": "code",
   "execution_count": 3,
   "id": "e9da6ad2",
   "metadata": {},
   "outputs": [],
   "source": [
    "# read data\n",
    "df = pd.read_csv('cleaned-data.csv')"
   ]
  },
  {
   "cell_type": "code",
   "execution_count": 4,
   "id": "da8962f2",
   "metadata": {},
   "outputs": [
    {
     "data": {
      "text/html": [
       "<div>\n",
       "<style scoped>\n",
       "    .dataframe tbody tr th:only-of-type {\n",
       "        vertical-align: middle;\n",
       "    }\n",
       "\n",
       "    .dataframe tbody tr th {\n",
       "        vertical-align: top;\n",
       "    }\n",
       "\n",
       "    .dataframe thead th {\n",
       "        text-align: right;\n",
       "    }\n",
       "</style>\n",
       "<table border=\"1\" class=\"dataframe\">\n",
       "  <thead>\n",
       "    <tr style=\"text-align: right;\">\n",
       "      <th></th>\n",
       "      <th>Lyric</th>\n",
       "      <th>Genres</th>\n",
       "    </tr>\n",
       "  </thead>\n",
       "  <tbody>\n",
       "    <tr>\n",
       "      <th>0</th>\n",
       "      <td>written kylie minogue stephen bray  chorus wit...</td>\n",
       "      <td>Pop</td>\n",
       "    </tr>\n",
       "    <tr>\n",
       "      <th>1</th>\n",
       "      <td>head under water and they tell me to breathe e...</td>\n",
       "      <td>Pop/Rock; Pop</td>\n",
       "    </tr>\n",
       "    <tr>\n",
       "      <th>2</th>\n",
       "      <td>here comes santa claus here comes santa claus ...</td>\n",
       "      <td>Pop</td>\n",
       "    </tr>\n",
       "    <tr>\n",
       "      <th>3</th>\n",
       "      <td>tale dreadful a murdered father and a king dee...</td>\n",
       "      <td>Heavy Metal</td>\n",
       "    </tr>\n",
       "    <tr>\n",
       "      <th>4</th>\n",
       "      <td>you turned him down and baby you fall a little...</td>\n",
       "      <td>Pop</td>\n",
       "    </tr>\n",
       "  </tbody>\n",
       "</table>\n",
       "</div>"
      ],
      "text/plain": [
       "                                               Lyric         Genres\n",
       "0  written kylie minogue stephen bray  chorus wit...            Pop\n",
       "1  head under water and they tell me to breathe e...  Pop/Rock; Pop\n",
       "2  here comes santa claus here comes santa claus ...            Pop\n",
       "3  tale dreadful a murdered father and a king dee...    Heavy Metal\n",
       "4  you turned him down and baby you fall a little...            Pop"
      ]
     },
     "execution_count": 4,
     "metadata": {},
     "output_type": "execute_result"
    }
   ],
   "source": [
    "# shuffle data\n",
    "df = df.sample(frac=1).reset_index(drop=True)\n",
    "df.head()"
   ]
  },
  {
   "cell_type": "code",
   "execution_count": 5,
   "id": "86853ba4",
   "metadata": {},
   "outputs": [],
   "source": [
    "indexNames = []\n",
    "for index, row in df.iterrows():\n",
    "    if len(row.Genres.split(\"; \"))>1:\n",
    "        indexNames.append(index)\n",
    "df = df.drop(indexNames)"
   ]
  },
  {
   "cell_type": "code",
   "execution_count": 6,
   "id": "5f3c1ff3",
   "metadata": {},
   "outputs": [],
   "source": [
    "x = np.array(df['Lyric'])\n",
    "y = np.array(df['Genres'])"
   ]
  },
  {
   "cell_type": "code",
   "execution_count": 7,
   "id": "c16adf88",
   "metadata": {},
   "outputs": [
    {
     "data": {
      "text/plain": [
       "<AxesSubplot:>"
      ]
     },
     "execution_count": 7,
     "metadata": {},
     "output_type": "execute_result"
    },
    {
     "data": {
      "image/png": "[encoded data removed]",
      "text/plain": [
       "<Figure size 432x288 with 1 Axes>"
      ]
     },
     "metadata": {
      "needs_background": "light"
     },
     "output_type": "display_data"
    }
   ],
   "source": [
    "df['Genres'].value_counts().plot.bar()"
   ]
  },
  {
   "cell_type": "code",
   "execution_count": 8,
   "id": "fb4696d1",
   "metadata": {},
   "outputs": [],
   "source": [
    "# tokenizer to transform lyrics into tokens\n",
    "tokenizer = tf.keras.preprocessing.text.Tokenizer(\n",
    "    num_words=VOCAB_SIZE,\n",
    "    filters='!\"#$%&()*+,-./:;<=>?@[\\\\]^_`{|}~\\t\\n',\n",
    "    lower=True, split=' ', char_level=False, oov_token=None,\n",
    "    #document_count=0, **kwargs\n",
    ")\n",
    "\n",
    "# updates internal vocabulary based on the lyrics\n",
    "tokenizer.fit_on_texts(x)\n",
    "\n",
    "# transform each text in x to a sequence of tokens\n",
    "x = tokenizer.texts_to_sequences(x)\n",
    "\n",
    "# pads/cuts sequences to the same length\n",
    "x = pad_sequences(x, maxlen = INPUT_LENGTH)\n",
    "\n",
    "# tokenizer to transform genres into tokens\n",
    "tokenizer = tf.keras.preprocessing.text.Tokenizer(\n",
    "    num_words=1000,\n",
    "    filters='!\"#$%&()*+,-./:;<=>?@[\\\\]^_`{|}~\\t\\n',\n",
    "    lower=True, split='; ', char_level=False, oov_token=None,\n",
    "    #document_count=0, **kwargs\n",
    ")\n",
    "\n",
    "# updates internal vocabulary based on the genres\n",
    "tokenizer.fit_on_texts(y)\n",
    "\n",
    "# transform each genre in y to an integer\n",
    "y = tokenizer.texts_to_sequences(y)\n",
    "y = np.array([elem[0]-1 for elem in y])"
   ]
  },
  {
   "cell_type": "code",
   "execution_count": 9,
   "id": "9c4b56da",
   "metadata": {},
   "outputs": [],
   "source": [
    "x_train, y_train, x_val, y_val, x_test, y_test = split(x, y)"
   ]
  },
  {
   "cell_type": "markdown",
   "id": "af3d7e36",
   "metadata": {},
   "source": [
    "## Model"
   ]
  },
  {
   "cell_type": "code",
   "execution_count": 10,
   "id": "eb7cf660",
   "metadata": {},
   "outputs": [],
   "source": [
    "def LSTM_Model(features=256, dropout=0.9, neurons=256):\n",
    "    model=Sequential()\n",
    "    # Embedding layer\n",
    "    model.add(Embedding(VOCAB_SIZE,features,input_length=INPUT_LENGTH))\n",
    "    # Long Short Term Memory layer\n",
    "    model.add(LSTM(neurons, dropout=dropout))\n",
    "    # Output layer\n",
    "    model.add(Dense(NUM_CLASSES,activation='sigmoid'))\n",
    "    model.compile(loss=keras.losses.sparse_categorical_crossentropy, optimizer=keras.optimizers.Adam(learning_rate=0.001), metrics=['accuracy'])\n",
    "    return model"
   ]
  },
  {
   "cell_type": "code",
   "execution_count": 11,
   "id": "5c4c6758",
   "metadata": {},
   "outputs": [
    {
     "name": "stderr",
     "output_type": "stream",
     "text": [
      "2022-07-04 19:52:16.490652: I tensorflow/stream_executor/cuda/cuda_gpu_executor.cc:936] successful NUMA node read from SysFS had negative value (-1), but there must be at least one NUMA node, so returning NUMA node zero\n",
      "2022-07-04 19:52:17.722938: I tensorflow/stream_executor/cuda/cuda_gpu_executor.cc:936] successful NUMA node read from SysFS had negative value (-1), but there must be at least one NUMA node, so returning NUMA node zero\n",
      "2022-07-04 19:52:17.723584: I tensorflow/stream_executor/cuda/cuda_gpu_executor.cc:936] successful NUMA node read from SysFS had negative value (-1), but there must be at least one NUMA node, so returning NUMA node zero\n",
      "2022-07-04 19:52:17.756133: I tensorflow/core/platform/cpu_feature_guard.cc:151] This TensorFlow binary is optimized with oneAPI Deep Neural Network Library (oneDNN) to use the following CPU instructions in performance-critical operations:  AVX2 FMA\n",
      "To enable them in other operations, rebuild TensorFlow with the appropriate compiler flags.\n",
      "2022-07-04 19:52:17.757762: I tensorflow/stream_executor/cuda/cuda_gpu_executor.cc:936] successful NUMA node read from SysFS had negative value (-1), but there must be at least one NUMA node, so returning NUMA node zero\n",
      "2022-07-04 19:52:17.758663: I tensorflow/stream_executor/cuda/cuda_gpu_executor.cc:936] successful NUMA node read from SysFS had negative value (-1), but there must be at least one NUMA node, so returning NUMA node zero\n",
      "2022-07-04 19:52:17.759414: I tensorflow/stream_executor/cuda/cuda_gpu_executor.cc:936] successful NUMA node read from SysFS had negative value (-1), but there must be at least one NUMA node, so returning NUMA node zero\n",
      "2022-07-04 19:52:24.876159: I tensorflow/stream_executor/cuda/cuda_gpu_executor.cc:936] successful NUMA node read from SysFS had negative value (-1), but there must be at least one NUMA node, so returning NUMA node zero\n",
      "2022-07-04 19:52:24.876450: I tensorflow/stream_executor/cuda/cuda_gpu_executor.cc:936] successful NUMA node read from SysFS had negative value (-1), but there must be at least one NUMA node, so returning NUMA node zero\n",
      "2022-07-04 19:52:24.876696: I tensorflow/stream_executor/cuda/cuda_gpu_executor.cc:936] successful NUMA node read from SysFS had negative value (-1), but there must be at least one NUMA node, so returning NUMA node zero\n",
      "2022-07-04 19:52:24.915811: I tensorflow/core/common_runtime/gpu/gpu_device.cc:1525] Created device /job:localhost/replica:0/task:0/device:GPU:0 with 2992 MB memory:  -> device: 0, name: NVIDIA GeForce GTX 960M, pci bus id: 0000:01:00.0, compute capability: 5.0\n"
     ]
    },
    {
     "name": "stdout",
     "output_type": "stream",
     "text": [
      "Model: \"sequential\"\n",
      "_________________________________________________________________\n",
      " Layer (type)                Output Shape              Param #   \n",
      "=================================================================\n",
      " embedding (Embedding)       (None, 265, 256)          4194304   \n",
      "                                                                 \n",
      " lstm (LSTM)                 (None, 256)               525312    \n",
      "                                                                 \n",
      " dense (Dense)               (None, 5)                 1285      \n",
      "                                                                 \n",
      "=================================================================\n",
      "Total params: 4,720,901\n",
      "Trainable params: 4,720,901\n",
      "Non-trainable params: 0\n",
      "_________________________________________________________________\n"
     ]
    }
   ],
   "source": [
    "model = LSTM_Model()\n",
    "model.summary()"
   ]
  },
  {
   "cell_type": "markdown",
   "id": "1564ba37",
   "metadata": {},
   "source": [
    "## Validation and Testing"
   ]
  },
  {
   "cell_type": "code",
   "execution_count": null,
   "id": "3767c43a",
   "metadata": {},
   "outputs": [
    {
     "name": "stdout",
     "output_type": "stream",
     "text": [
      "Epoch 1/3\n"
     ]
    },
    {
     "name": "stderr",
     "output_type": "stream",
     "text": [
      "2022-07-04 19:52:42.956153: I tensorflow/stream_executor/cuda/cuda_dnn.cc:368] Loaded cuDNN version 8400\n"
     ]
    },
    {
     "name": "stdout",
     "output_type": "stream",
     "text": [
      "1757/1757 [==============================] - 161s 81ms/step - loss: 1.1163 - accuracy: 0.4939 - val_loss: 0.9154 - val_accuracy: 0.5760\n",
      "Epoch 2/3\n",
      "   4/1757 [..............................] - ETA: 2:09 - loss: 0.9747 - accuracy: 0.5547"
     ]
    }
   ],
   "source": [
    "epochs = 3\n",
    "\n",
    "results = model.fit(x_train,y_train,validation_data=(x_val,y_val),epochs=epochs)"
   ]
  },
  {
   "cell_type": "code",
   "execution_count": null,
   "id": "52b2b394",
   "metadata": {},
   "outputs": [],
   "source": [
    "plot_accuracy_comparison([results.history[\"accuracy\"], results.history[\"val_accuracy\"]],\n",
    "                        \"Training/Validation Accuracy Comparison\",\n",
    "                        [\"Training Accuracy\", \"Validation Accuracy\"])"
   ]
  },
  {
   "cell_type": "code",
   "execution_count": null,
   "id": "83b7d7b2",
   "metadata": {},
   "outputs": [],
   "source": [
    "plot_loss_comparison([results.history[\"loss\"], results.history[\"val_loss\"]],\n",
    "                     \"Training/Validation Loss Comparison\",\n",
    "                     [\"Training Loss\", \"Validation Loss\"])"
   ]
  },
  {
   "cell_type": "code",
   "execution_count": null,
   "id": "3a92d9f3",
   "metadata": {},
   "outputs": [],
   "source": [
    "model = LSTM_Model()\n",
    "results = model.fit(np.concatenate((x_train,x_val)), np.concatenate((y_train,y_val)), epochs=epochs)\n",
    "loss, acc = model.evaluate(x_test, y_test)\n",
    "print(\"Test Loss:\", loss)\n",
    "print(\"Test Accuracy:\", acc)\n",
    "\n",
    "# show confusion matrix\n",
    "y_pred=np.argmax(model.predict(x_test), axis=-1)\n",
    "#plot_confusion_matrix(y_test, y_pred)\n",
    "\n",
    "# show other metrics\n",
    "print(classification_report(y_pred,y_test))"
   ]
  },
  {
   "cell_type": "markdown",
   "id": "e569c13d",
   "metadata": {},
   "source": [
    "## Hyper-Parameter Selection"
   ]
  },
  {
   "cell_type": "markdown",
   "id": "afa341a7",
   "metadata": {},
   "source": [
    "### Epochs"
   ]
  },
  {
   "cell_type": "code",
   "execution_count": null,
   "id": "3a176933",
   "metadata": {},
   "outputs": [],
   "source": [
    "model = LSTM_Model()\n",
    "results = model.fit(x_train, y_train, validation_data=(x_val,y_val), epochs=10)"
   ]
  },
  {
   "cell_type": "code",
   "execution_count": null,
   "id": "4ba21435",
   "metadata": {},
   "outputs": [],
   "source": [
    "plot_accuracy_comparison([results.history[\"accuracy\"], results.history[\"val_accuracy\"]],\n",
    "                        \"Training/Validation Accuracy Comparison\",\n",
    "                        [\"Training Accuracy\", \"Validation Accuracy\"])"
   ]
  },
  {
   "cell_type": "code",
   "execution_count": null,
   "id": "b56b6cd1",
   "metadata": {},
   "outputs": [],
   "source": [
    "plot_loss_comparison([results.history[\"loss\"], results.history[\"val_loss\"]],\n",
    "                     \"Training/Validation Loss Comparison\",\n",
    "                     [\"Training Loss\", \"Validation Loss\"])"
   ]
  },
  {
   "cell_type": "markdown",
   "id": "24f342f7",
   "metadata": {},
   "source": [
    "### Dropout Rate"
   ]
  },
  {
   "cell_type": "code",
   "execution_count": null,
   "id": "6b1f472e",
   "metadata": {},
   "outputs": [],
   "source": [
    "dropout_rates=[]\n",
    "acc = []\n",
    "loss = []\n",
    "\n",
    "dp = 0\n",
    "while dp <= 0.9:\n",
    "    model = LSTM_Model(dropout=dp)\n",
    "    results = model.fit(x_train, y_train, validation_data=(x_val,y_val), epochs=epochs)\n",
    "\n",
    "    acc.append(results.history[\"val_accuracy\"])\n",
    "    loss.append(results.history[\"val_loss\"])\n",
    "    dropout_rates.append(dp)\n",
    "    dp += 0.1"
   ]
  },
  {
   "cell_type": "code",
   "execution_count": null,
   "id": "d714072e",
   "metadata": {},
   "outputs": [],
   "source": [
    "plot_accuracy_comparison(acc, \"Learning Rate Comparison (Validation Accuracy)\", dropout_rates)"
   ]
  },
  {
   "cell_type": "code",
   "execution_count": null,
   "id": "91cea8b7",
   "metadata": {},
   "outputs": [],
   "source": [
    "plot_loss_comparison(loss, \"Learning Rate Comparison (Validation Loss)\", dropout_rates)"
   ]
  },
  {
   "cell_type": "markdown",
   "id": "a1cbc4a7",
   "metadata": {},
   "source": [
    "### Features"
   ]
  },
  {
   "cell_type": "code",
   "execution_count": null,
   "id": "c96fca77",
   "metadata": {},
   "outputs": [],
   "source": [
    "features=[]\n",
    "acc = []\n",
    "loss = []\n",
    "\n",
    "f = 32\n",
    "while f <= 512:\n",
    "    model = LSTM_Model(features=f)\n",
    "    results = model.fit(x_train, y_train, validation_data=(x_val,y_val), epochs=epochs)\n",
    "\n",
    "    acc.append(results.history[\"val_accuracy\"])\n",
    "    loss.append(results.history[\"val_loss\"])\n",
    "    features.append(f)\n",
    "    f *= 2"
   ]
  },
  {
   "cell_type": "code",
   "execution_count": null,
   "id": "ceb3a36d",
   "metadata": {},
   "outputs": [],
   "source": [
    "plot_accuracy_comparison(acc, \"Learning Rate Comparison (Validation Accuracy)\", features)"
   ]
  },
  {
   "cell_type": "code",
   "execution_count": null,
   "id": "363f39dc",
   "metadata": {},
   "outputs": [],
   "source": [
    "plot_loss_comparison(loss, \"Learning Rate Comparison (Validation Loss)\", features)"
   ]
  },
  {
   "cell_type": "markdown",
   "id": "5b33258d",
   "metadata": {},
   "source": [
    "### Neurons"
   ]
  },
  {
   "cell_type": "code",
   "execution_count": null,
   "id": "91d5891d",
   "metadata": {},
   "outputs": [],
   "source": [
    "neurons=[]\n",
    "acc = []\n",
    "loss = []\n",
    "\n",
    "n = 32\n",
    "while n <= 512:\n",
    "    model = LSTM_Model(neurons=n)\n",
    "    results = model.fit(x_train, y_train, validation_data=(x_val,y_val), epochs=epochs)\n",
    "\n",
    "    acc.append(results.history[\"val_accuracy\"])\n",
    "    loss.append(results.history[\"val_loss\"])\n",
    "    neurons.append(n)\n",
    "    n *= 2"
   ]
  },
  {
   "cell_type": "code",
   "execution_count": null,
   "id": "11179b56",
   "metadata": {},
   "outputs": [],
   "source": [
    "plot_accuracy_comparison(acc, \"Learning Rate Comparison (Validation Accuracy)\", neurons)"
   ]
  },
  {
   "cell_type": "code",
   "execution_count": null,
   "id": "288a0056",
   "metadata": {},
   "outputs": [],
   "source": [
    "plot_loss_comparison(loss, \"Learning Rate Comparison (Validation Loss)\", neurons)"
   ]
  }
 ],
 "metadata": {
  "kernelspec": {
   "display_name": "Python 3 (ipykernel)",
   "language": "python",
   "name": "python3"
  },
  "language_info": {
   "codemirror_mode": {
    "name": "ipython",
    "version": 3
   },
   "file_extension": ".py",
   "mimetype": "text/x-python",
   "name": "python",
   "nbconvert_exporter": "python",
   "pygments_lexer": "ipython3",
   "version": "3.8.10"
  }
 },
 "nbformat": 4,
 "nbformat_minor": 5
}
