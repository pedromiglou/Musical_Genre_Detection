{
 "cells": [
  {
   "cell_type": "code",
   "execution_count": null,
   "id": "751db749",
   "metadata": {},
   "outputs": [],
   "source": [
    "import pandas as pd"
   ]
  },
  {
   "cell_type": "code",
   "execution_count": null,
   "id": "92395adb",
   "metadata": {},
   "outputs": [],
   "source": [
    "df_artists = pd.read_csv('artists-data.csv')\n",
    "df_artists.head(10)"
   ]
  },
  {
   "cell_type": "code",
   "execution_count": null,
   "id": "c16f2a3c",
   "metadata": {},
   "outputs": [],
   "source": [
    "df_lyrics = pd.read_csv('lyrics-data.csv')\n",
    "df_lyrics.head(10)"
   ]
  },
  {
   "cell_type": "code",
   "execution_count": null,
   "id": "eb726294",
   "metadata": {},
   "outputs": [],
   "source": [
    "df_lyrics = df_lyrics.loc[lambda df: df['language'] == 'en']\n",
    "df_lyrics.head(10)"
   ]
  },
  {
   "cell_type": "code",
   "execution_count": null,
   "id": "f718313a",
   "metadata": {},
   "outputs": [],
   "source": [
    "df_merged = pd.merge(df_lyrics, df_artists, how='inner', left_on='ALink', right_on='Link')\n",
    "df_merged = df_merged.drop(['ALink','Link', \"SName\", \"SLink\", \"language\", \"Artist\", \"Songs\", \"Popularity\"], axis=1)\n",
    "df_merged.head()\n",
    "\n",
    "df_merged.to_csv('cleaned-data.csv', index = False)"
   ]
  },
  {
   "cell_type": "code",
   "execution_count": null,
   "id": "3799537d",
   "metadata": {},
   "outputs": [],
   "source": [
    "df = pd.read_csv('cleaned-data.csv')\n",
    "df.head(10)\n",
    "df.tail(10)"
   ]
  }
 ],
 "metadata": {
  "kernelspec": {
   "display_name": "Python 3 (ipykernel)",
   "language": "python",
   "name": "python3"
  },
  "language_info": {
   "codemirror_mode": {
    "name": "ipython",
    "version": 3
   },
   "file_extension": ".py",
   "mimetype": "text/x-python",
   "name": "python",
   "nbconvert_exporter": "python",
   "pygments_lexer": "ipython3",
   "version": "3.8.10"
  }
 },
 "nbformat": 4,
 "nbformat_minor": 5
}
