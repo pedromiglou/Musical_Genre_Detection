{
 "cells": [
  {
   "cell_type": "markdown",
   "id": "6bf0ca6e",
   "metadata": {},
   "source": [
    "### Imports"
   ]
  },
  {
   "cell_type": "code",
   "execution_count": 1,
   "id": "751db749",
   "metadata": {},
   "outputs": [],
   "source": [
    "import pandas as pd\n",
    "import string\n",
    "import matplotlib.pyplot as plt"
   ]
  },
  {
   "cell_type": "markdown",
   "id": "996d6a66",
   "metadata": {},
   "source": [
    "### Read and Filter Artists"
   ]
  },
  {
   "cell_type": "code",
   "execution_count": 2,
   "id": "92395adb",
   "metadata": {},
   "outputs": [
    {
     "data": {
      "text/html": [
       "<div>\n",
       "<style scoped>\n",
       "    .dataframe tbody tr th:only-of-type {\n",
       "        vertical-align: middle;\n",
       "    }\n",
       "\n",
       "    .dataframe tbody tr th {\n",
       "        vertical-align: top;\n",
       "    }\n",
       "\n",
       "    .dataframe thead th {\n",
       "        text-align: right;\n",
       "    }\n",
       "</style>\n",
       "<table border=\"1\" class=\"dataframe\">\n",
       "  <thead>\n",
       "    <tr style=\"text-align: right;\">\n",
       "      <th></th>\n",
       "      <th>Artist</th>\n",
       "      <th>Genres</th>\n",
       "      <th>Songs</th>\n",
       "      <th>Popularity</th>\n",
       "      <th>Link</th>\n",
       "    </tr>\n",
       "  </thead>\n",
       "  <tbody>\n",
       "    <tr>\n",
       "      <th>0</th>\n",
       "      <td>Ivete Sangalo</td>\n",
       "      <td>Pop; Axé; Romântico</td>\n",
       "      <td>313.0</td>\n",
       "      <td>4.4</td>\n",
       "      <td>/ivete-sangalo/</td>\n",
       "    </tr>\n",
       "    <tr>\n",
       "      <th>1</th>\n",
       "      <td>Chiclete com Banana</td>\n",
       "      <td>Axé</td>\n",
       "      <td>268.0</td>\n",
       "      <td>3.8</td>\n",
       "      <td>/chiclete-com-banana/</td>\n",
       "    </tr>\n",
       "    <tr>\n",
       "      <th>2</th>\n",
       "      <td>Banda Eva</td>\n",
       "      <td>Axé; Romântico; Reggae</td>\n",
       "      <td>215.0</td>\n",
       "      <td>2.3</td>\n",
       "      <td>/banda-eva/</td>\n",
       "    </tr>\n",
       "    <tr>\n",
       "      <th>3</th>\n",
       "      <td>É O Tchan</td>\n",
       "      <td>Axé</td>\n",
       "      <td>129.0</td>\n",
       "      <td>1.6</td>\n",
       "      <td>/e-o-tchan/</td>\n",
       "    </tr>\n",
       "    <tr>\n",
       "      <th>4</th>\n",
       "      <td>Claudia Leitte</td>\n",
       "      <td>Pop; Axé; Romântico</td>\n",
       "      <td>167.0</td>\n",
       "      <td>1.5</td>\n",
       "      <td>/claudia-leitte/</td>\n",
       "    </tr>\n",
       "    <tr>\n",
       "      <th>5</th>\n",
       "      <td>Harmonia do Samba</td>\n",
       "      <td>Axé; Samba; Pagode</td>\n",
       "      <td>237.0</td>\n",
       "      <td>0.9</td>\n",
       "      <td>/harmonia-do-samba/</td>\n",
       "    </tr>\n",
       "    <tr>\n",
       "      <th>6</th>\n",
       "      <td>Ara Ketu</td>\n",
       "      <td>Axé; Pop</td>\n",
       "      <td>139.0</td>\n",
       "      <td>1.5</td>\n",
       "      <td>/ara-ketu/</td>\n",
       "    </tr>\n",
       "    <tr>\n",
       "      <th>7</th>\n",
       "      <td>Daniela Mercury</td>\n",
       "      <td>MPB; Axé</td>\n",
       "      <td>230.0</td>\n",
       "      <td>1.4</td>\n",
       "      <td>/daniela-mercury/</td>\n",
       "    </tr>\n",
       "    <tr>\n",
       "      <th>8</th>\n",
       "      <td>Olodum</td>\n",
       "      <td>Axé</td>\n",
       "      <td>74.0</td>\n",
       "      <td>1.3</td>\n",
       "      <td>/olodum/</td>\n",
       "    </tr>\n",
       "    <tr>\n",
       "      <th>9</th>\n",
       "      <td>Netinho</td>\n",
       "      <td>Axé</td>\n",
       "      <td>204.0</td>\n",
       "      <td>2.0</td>\n",
       "      <td>/netinho/</td>\n",
       "    </tr>\n",
       "  </tbody>\n",
       "</table>\n",
       "</div>"
      ],
      "text/plain": [
       "                Artist                  Genres  Songs  Popularity  \\\n",
       "0        Ivete Sangalo     Pop; Axé; Romântico  313.0         4.4   \n",
       "1  Chiclete com Banana                     Axé  268.0         3.8   \n",
       "2            Banda Eva  Axé; Romântico; Reggae  215.0         2.3   \n",
       "3            É O Tchan                     Axé  129.0         1.6   \n",
       "4       Claudia Leitte     Pop; Axé; Romântico  167.0         1.5   \n",
       "5    Harmonia do Samba      Axé; Samba; Pagode  237.0         0.9   \n",
       "6             Ara Ketu                Axé; Pop  139.0         1.5   \n",
       "7      Daniela Mercury                MPB; Axé  230.0         1.4   \n",
       "8               Olodum                     Axé   74.0         1.3   \n",
       "9              Netinho                     Axé  204.0         2.0   \n",
       "\n",
       "                    Link  \n",
       "0        /ivete-sangalo/  \n",
       "1  /chiclete-com-banana/  \n",
       "2            /banda-eva/  \n",
       "3            /e-o-tchan/  \n",
       "4       /claudia-leitte/  \n",
       "5    /harmonia-do-samba/  \n",
       "6             /ara-ketu/  \n",
       "7      /daniela-mercury/  \n",
       "8               /olodum/  \n",
       "9              /netinho/  "
      ]
     },
     "execution_count": 2,
     "metadata": {},
     "output_type": "execute_result"
    }
   ],
   "source": [
    "df_artists = pd.read_csv('artists-data.csv')\n",
    "\n",
    "# remove invalids\n",
    "indexNames = []\n",
    "for index, row in df_artists.iterrows():\n",
    "    if type(row.Genres)!=str or type(row.Link)!=str:\n",
    "        indexNames.append(index)\n",
    "df_artists = df_artists.drop(indexNames)\n",
    "\n",
    "df_artists.head(10)"
   ]
  },
  {
   "cell_type": "markdown",
   "id": "3c43920b",
   "metadata": {},
   "source": [
    "### Read and Filter Lyrics"
   ]
  },
  {
   "cell_type": "code",
   "execution_count": 3,
   "id": "c16f2a3c",
   "metadata": {},
   "outputs": [
    {
     "data": {
      "text/html": [
       "<div>\n",
       "<style scoped>\n",
       "    .dataframe tbody tr th:only-of-type {\n",
       "        vertical-align: middle;\n",
       "    }\n",
       "\n",
       "    .dataframe tbody tr th {\n",
       "        vertical-align: top;\n",
       "    }\n",
       "\n",
       "    .dataframe thead th {\n",
       "        text-align: right;\n",
       "    }\n",
       "</style>\n",
       "<table border=\"1\" class=\"dataframe\">\n",
       "  <thead>\n",
       "    <tr style=\"text-align: right;\">\n",
       "      <th></th>\n",
       "      <th>ALink</th>\n",
       "      <th>SName</th>\n",
       "      <th>SLink</th>\n",
       "      <th>Lyric</th>\n",
       "      <th>language</th>\n",
       "    </tr>\n",
       "  </thead>\n",
       "  <tbody>\n",
       "    <tr>\n",
       "      <th>69</th>\n",
       "      <td>/ivete-sangalo/</td>\n",
       "      <td>Careless Whisper</td>\n",
       "      <td>/ivete-sangalo/careless-whisper.html</td>\n",
       "      <td>I feel so unsure\\nAs I take your hand and lead...</td>\n",
       "      <td>en</td>\n",
       "    </tr>\n",
       "    <tr>\n",
       "      <th>86</th>\n",
       "      <td>/ivete-sangalo/</td>\n",
       "      <td>Could You Be Loved / Citação Musical do Rap: S...</td>\n",
       "      <td>/ivete-sangalo/could-you-be-loved-citacao-musi...</td>\n",
       "      <td>Don't let them fool, ya\\nOr even try to school...</td>\n",
       "      <td>en</td>\n",
       "    </tr>\n",
       "    <tr>\n",
       "      <th>88</th>\n",
       "      <td>/ivete-sangalo/</td>\n",
       "      <td>Cruisin' (Part. Saulo)</td>\n",
       "      <td>/ivete-sangalo/cruisin-part-saulo.html</td>\n",
       "      <td>Baby, let's cruise, away from here\\nDon't be c...</td>\n",
       "      <td>en</td>\n",
       "    </tr>\n",
       "    <tr>\n",
       "      <th>111</th>\n",
       "      <td>/ivete-sangalo/</td>\n",
       "      <td>Easy</td>\n",
       "      <td>/ivete-sangalo/easy.html</td>\n",
       "      <td>Know it sounds funny\\nBut, I just can't stand ...</td>\n",
       "      <td>en</td>\n",
       "    </tr>\n",
       "    <tr>\n",
       "      <th>140</th>\n",
       "      <td>/ivete-sangalo/</td>\n",
       "      <td>For Your Babies (The Voice cover)</td>\n",
       "      <td>/ivete-sangalo/for-your-babies-the-voice-cover...</td>\n",
       "      <td>You've got that look again\\nThe one I hoped I ...</td>\n",
       "      <td>en</td>\n",
       "    </tr>\n",
       "    <tr>\n",
       "      <th>147</th>\n",
       "      <td>/ivete-sangalo/</td>\n",
       "      <td>Human Nature</td>\n",
       "      <td>/ivete-sangalo/human-nature.html</td>\n",
       "      <td>Looking out\\nAcross the night time\\nThe city w...</td>\n",
       "      <td>en</td>\n",
       "    </tr>\n",
       "    <tr>\n",
       "      <th>159</th>\n",
       "      <td>/ivete-sangalo/</td>\n",
       "      <td>Losing Control (Miss Cady feat. Ivete Sangalo)</td>\n",
       "      <td>/ivete-sangalo/losing-control-miss-cady-feat-i...</td>\n",
       "      <td>Uh, yeah.\\nGo, go, go.\\nUh, yeah.\\nUh, Uh, Uhh...</td>\n",
       "      <td>en</td>\n",
       "    </tr>\n",
       "    <tr>\n",
       "      <th>168</th>\n",
       "      <td>/ivete-sangalo/</td>\n",
       "      <td>Master Blaster (Jammin')</td>\n",
       "      <td>/ivete-sangalo/master-blaster-jammin.html</td>\n",
       "      <td>Everyone's feeling pretty\\nIt's hotter than Ju...</td>\n",
       "      <td>en</td>\n",
       "    </tr>\n",
       "    <tr>\n",
       "      <th>187</th>\n",
       "      <td>/ivete-sangalo/</td>\n",
       "      <td>More Than Words</td>\n",
       "      <td>/ivete-sangalo/more-than-words.html</td>\n",
       "      <td>Saying 'I Love you'\\nIs not the words I want t...</td>\n",
       "      <td>en</td>\n",
       "    </tr>\n",
       "    <tr>\n",
       "      <th>207</th>\n",
       "      <td>/ivete-sangalo/</td>\n",
       "      <td>Natural Collie</td>\n",
       "      <td>/ivete-sangalo/natural-collie.html</td>\n",
       "      <td>Been down in the valley\\nSmoking natural colli...</td>\n",
       "      <td>en</td>\n",
       "    </tr>\n",
       "  </tbody>\n",
       "</table>\n",
       "</div>"
      ],
      "text/plain": [
       "               ALink                                              SName  \\\n",
       "69   /ivete-sangalo/                                   Careless Whisper   \n",
       "86   /ivete-sangalo/  Could You Be Loved / Citação Musical do Rap: S...   \n",
       "88   /ivete-sangalo/                             Cruisin' (Part. Saulo)   \n",
       "111  /ivete-sangalo/                                               Easy   \n",
       "140  /ivete-sangalo/                  For Your Babies (The Voice cover)   \n",
       "147  /ivete-sangalo/                                       Human Nature   \n",
       "159  /ivete-sangalo/     Losing Control (Miss Cady feat. Ivete Sangalo)   \n",
       "168  /ivete-sangalo/                           Master Blaster (Jammin')   \n",
       "187  /ivete-sangalo/                                    More Than Words   \n",
       "207  /ivete-sangalo/                                     Natural Collie   \n",
       "\n",
       "                                                 SLink  \\\n",
       "69                /ivete-sangalo/careless-whisper.html   \n",
       "86   /ivete-sangalo/could-you-be-loved-citacao-musi...   \n",
       "88              /ivete-sangalo/cruisin-part-saulo.html   \n",
       "111                           /ivete-sangalo/easy.html   \n",
       "140  /ivete-sangalo/for-your-babies-the-voice-cover...   \n",
       "147                   /ivete-sangalo/human-nature.html   \n",
       "159  /ivete-sangalo/losing-control-miss-cady-feat-i...   \n",
       "168          /ivete-sangalo/master-blaster-jammin.html   \n",
       "187                /ivete-sangalo/more-than-words.html   \n",
       "207                 /ivete-sangalo/natural-collie.html   \n",
       "\n",
       "                                                 Lyric language  \n",
       "69   I feel so unsure\\nAs I take your hand and lead...       en  \n",
       "86   Don't let them fool, ya\\nOr even try to school...       en  \n",
       "88   Baby, let's cruise, away from here\\nDon't be c...       en  \n",
       "111  Know it sounds funny\\nBut, I just can't stand ...       en  \n",
       "140  You've got that look again\\nThe one I hoped I ...       en  \n",
       "147  Looking out\\nAcross the night time\\nThe city w...       en  \n",
       "159  Uh, yeah.\\nGo, go, go.\\nUh, yeah.\\nUh, Uh, Uhh...       en  \n",
       "168  Everyone's feeling pretty\\nIt's hotter than Ju...       en  \n",
       "187  Saying 'I Love you'\\nIs not the words I want t...       en  \n",
       "207  Been down in the valley\\nSmoking natural colli...       en  "
      ]
     },
     "execution_count": 3,
     "metadata": {},
     "output_type": "execute_result"
    }
   ],
   "source": [
    "df_lyrics = pd.read_csv('lyrics-data.csv')\n",
    "\n",
    "# remove invalids and duplicates (check lyrics and author)\n",
    "indexNames = []\n",
    "s = set()\n",
    "for index, row in df_lyrics.iterrows():\n",
    "    if type(row.Lyric)!=str or type(row.ALink)!=str:\n",
    "        indexNames.append(index)\n",
    "    else:\n",
    "        music = row.Lyric + row.ALink\n",
    "        if music not in s:\n",
    "            s.add(music)\n",
    "        else:\n",
    "            indexNames.append(index)\n",
    "df_lyrics = df_lyrics.drop(indexNames)\n",
    "\n",
    "# filter to only english lyrics\n",
    "df_lyrics = df_lyrics.loc[lambda df: df['language'] == 'en']\n",
    "\n",
    "df_lyrics.head(10)"
   ]
  },
  {
   "cell_type": "markdown",
   "id": "eceeb2ef",
   "metadata": {},
   "source": [
    "### Merge Data"
   ]
  },
  {
   "cell_type": "code",
   "execution_count": 4,
   "id": "f718313a",
   "metadata": {},
   "outputs": [
    {
     "data": {
      "text/html": [
       "<div>\n",
       "<style scoped>\n",
       "    .dataframe tbody tr th:only-of-type {\n",
       "        vertical-align: middle;\n",
       "    }\n",
       "\n",
       "    .dataframe tbody tr th {\n",
       "        vertical-align: top;\n",
       "    }\n",
       "\n",
       "    .dataframe thead th {\n",
       "        text-align: right;\n",
       "    }\n",
       "</style>\n",
       "<table border=\"1\" class=\"dataframe\">\n",
       "  <thead>\n",
       "    <tr style=\"text-align: right;\">\n",
       "      <th></th>\n",
       "      <th>Lyric</th>\n",
       "      <th>Genres</th>\n",
       "    </tr>\n",
       "  </thead>\n",
       "  <tbody>\n",
       "    <tr>\n",
       "      <th>0</th>\n",
       "      <td>I feel so unsure\\nAs I take your hand and lead...</td>\n",
       "      <td>Pop; Axé; Romântico</td>\n",
       "    </tr>\n",
       "    <tr>\n",
       "      <th>1</th>\n",
       "      <td>Don't let them fool, ya\\nOr even try to school...</td>\n",
       "      <td>Pop; Axé; Romântico</td>\n",
       "    </tr>\n",
       "    <tr>\n",
       "      <th>2</th>\n",
       "      <td>Baby, let's cruise, away from here\\nDon't be c...</td>\n",
       "      <td>Pop; Axé; Romântico</td>\n",
       "    </tr>\n",
       "    <tr>\n",
       "      <th>3</th>\n",
       "      <td>Know it sounds funny\\nBut, I just can't stand ...</td>\n",
       "      <td>Pop; Axé; Romântico</td>\n",
       "    </tr>\n",
       "    <tr>\n",
       "      <th>4</th>\n",
       "      <td>You've got that look again\\nThe one I hoped I ...</td>\n",
       "      <td>Pop; Axé; Romântico</td>\n",
       "    </tr>\n",
       "    <tr>\n",
       "      <th>5</th>\n",
       "      <td>Looking out\\nAcross the night time\\nThe city w...</td>\n",
       "      <td>Pop; Axé; Romântico</td>\n",
       "    </tr>\n",
       "    <tr>\n",
       "      <th>6</th>\n",
       "      <td>Uh, yeah.\\nGo, go, go.\\nUh, yeah.\\nUh, Uh, Uhh...</td>\n",
       "      <td>Pop; Axé; Romântico</td>\n",
       "    </tr>\n",
       "    <tr>\n",
       "      <th>7</th>\n",
       "      <td>Everyone's feeling pretty\\nIt's hotter than Ju...</td>\n",
       "      <td>Pop; Axé; Romântico</td>\n",
       "    </tr>\n",
       "    <tr>\n",
       "      <th>8</th>\n",
       "      <td>Saying 'I Love you'\\nIs not the words I want t...</td>\n",
       "      <td>Pop; Axé; Romântico</td>\n",
       "    </tr>\n",
       "    <tr>\n",
       "      <th>9</th>\n",
       "      <td>Been down in the valley\\nSmoking natural colli...</td>\n",
       "      <td>Pop; Axé; Romântico</td>\n",
       "    </tr>\n",
       "  </tbody>\n",
       "</table>\n",
       "</div>"
      ],
      "text/plain": [
       "                                               Lyric               Genres\n",
       "0  I feel so unsure\\nAs I take your hand and lead...  Pop; Axé; Romântico\n",
       "1  Don't let them fool, ya\\nOr even try to school...  Pop; Axé; Romântico\n",
       "2  Baby, let's cruise, away from here\\nDon't be c...  Pop; Axé; Romântico\n",
       "3  Know it sounds funny\\nBut, I just can't stand ...  Pop; Axé; Romântico\n",
       "4  You've got that look again\\nThe one I hoped I ...  Pop; Axé; Romântico\n",
       "5  Looking out\\nAcross the night time\\nThe city w...  Pop; Axé; Romântico\n",
       "6  Uh, yeah.\\nGo, go, go.\\nUh, yeah.\\nUh, Uh, Uhh...  Pop; Axé; Romântico\n",
       "7  Everyone's feeling pretty\\nIt's hotter than Ju...  Pop; Axé; Romântico\n",
       "8  Saying 'I Love you'\\nIs not the words I want t...  Pop; Axé; Romântico\n",
       "9  Been down in the valley\\nSmoking natural colli...  Pop; Axé; Romântico"
      ]
     },
     "execution_count": 4,
     "metadata": {},
     "output_type": "execute_result"
    }
   ],
   "source": [
    "df_merged = pd.merge(df_lyrics, df_artists, how='inner', left_on='ALink', right_on='Link')\n",
    "df_merged = df_merged.drop(['ALink','Link', \"SName\", \"SLink\", \"language\", \"Artist\", \"Songs\", \"Popularity\"], axis=1)\n",
    "df_merged.head(10)"
   ]
  },
  {
   "cell_type": "markdown",
   "id": "1c4cc4d8",
   "metadata": {},
   "source": [
    "### Filter to only some genres"
   ]
  },
  {
   "cell_type": "code",
   "execution_count": 5,
   "id": "773d1a40",
   "metadata": {},
   "outputs": [
    {
     "name": "stdout",
     "output_type": "stream",
     "text": [
      "[('Rock', 63579), ('Pop', 33480), ('Pop/Rock', 26296), ('Heavy Metal', 21676), ('Hip Hop', 20847)]\n"
     ]
    },
    {
     "data": {
      "image/png": "[encoded data removed]",
      "text/plain": [
       "<Figure size 432x288 with 1 Axes>"
      ]
     },
     "metadata": {
      "needs_background": "light"
     },
     "output_type": "display_data"
    }
   ],
   "source": [
    "l = dict()\n",
    "\n",
    "for i in range(len(df_merged)):\n",
    "    for genre in df_merged.iloc[i,1].split(\"; \"):\n",
    "        if genre not in l:\n",
    "            l[genre] = 1\n",
    "        else:\n",
    "            l[genre] += 1\n",
    "\n",
    "# show graph from the initial genre/class distribution\n",
    "items = sorted(list(l.items()), key = lambda x: -x[1])[:32]\n",
    "plt.xticks(rotation=90)\n",
    "plt.bar(range(len(items)), [item[1] for item in items], width=0.8, bottom=None, tick_label=[item[0] for item in items])\n",
    "\n",
    "l = sorted(list(l.items()), key = lambda x: -x[1])[:5]\n",
    "print(l)\n",
    "l = set([elem[0] for elem in l])\n",
    "\n",
    "indexNames = []\n",
    "for i in range(len(df_merged)):\n",
    "    genres = df_merged.iloc[i,1].split(\"; \")\n",
    "    genres = [genre for genre in genres if genre in l]\n",
    "    if len(genres)==0:\n",
    "        indexNames.append(i)\n",
    "    else:\n",
    "        df_merged.iloc[i,1] = \"; \".join(genres)\n",
    "df_merged = df_merged.drop(indexNames)"
   ]
  },
  {
   "cell_type": "markdown",
   "id": "d3f8a48d",
   "metadata": {},
   "source": [
    "### Remove Punctuation"
   ]
  },
  {
   "cell_type": "code",
   "execution_count": 6,
   "id": "d05d28b4",
   "metadata": {},
   "outputs": [
    {
     "data": {
      "text/html": [
       "<div>\n",
       "<style scoped>\n",
       "    .dataframe tbody tr th:only-of-type {\n",
       "        vertical-align: middle;\n",
       "    }\n",
       "\n",
       "    .dataframe tbody tr th {\n",
       "        vertical-align: top;\n",
       "    }\n",
       "\n",
       "    .dataframe thead th {\n",
       "        text-align: right;\n",
       "    }\n",
       "</style>\n",
       "<table border=\"1\" class=\"dataframe\">\n",
       "  <thead>\n",
       "    <tr style=\"text-align: right;\">\n",
       "      <th></th>\n",
       "      <th>Lyric</th>\n",
       "      <th>Genres</th>\n",
       "    </tr>\n",
       "  </thead>\n",
       "  <tbody>\n",
       "    <tr>\n",
       "      <th>0</th>\n",
       "      <td>i feel so unsure as i take your hand and lead ...</td>\n",
       "      <td>Pop</td>\n",
       "    </tr>\n",
       "    <tr>\n",
       "      <th>1</th>\n",
       "      <td>dont let them fool ya or even try to school ya...</td>\n",
       "      <td>Pop</td>\n",
       "    </tr>\n",
       "    <tr>\n",
       "      <th>2</th>\n",
       "      <td>baby lets cruise away from here dont be confus...</td>\n",
       "      <td>Pop</td>\n",
       "    </tr>\n",
       "    <tr>\n",
       "      <th>3</th>\n",
       "      <td>know it sounds funny but i just cant stand the...</td>\n",
       "      <td>Pop</td>\n",
       "    </tr>\n",
       "    <tr>\n",
       "      <th>4</th>\n",
       "      <td>youve got that look again the one i hoped i ha...</td>\n",
       "      <td>Pop</td>\n",
       "    </tr>\n",
       "    <tr>\n",
       "      <th>5</th>\n",
       "      <td>looking out across the night time the city win...</td>\n",
       "      <td>Pop</td>\n",
       "    </tr>\n",
       "    <tr>\n",
       "      <th>6</th>\n",
       "      <td>uh yeah go go go uh yeah uh uh uhh  hey hey i ...</td>\n",
       "      <td>Pop</td>\n",
       "    </tr>\n",
       "    <tr>\n",
       "      <th>7</th>\n",
       "      <td>everyones feeling pretty its hotter than july ...</td>\n",
       "      <td>Pop</td>\n",
       "    </tr>\n",
       "    <tr>\n",
       "      <th>8</th>\n",
       "      <td>saying i love you is not the words i want to h...</td>\n",
       "      <td>Pop</td>\n",
       "    </tr>\n",
       "    <tr>\n",
       "      <th>9</th>\n",
       "      <td>been down in the valley smoking natural collie...</td>\n",
       "      <td>Pop</td>\n",
       "    </tr>\n",
       "  </tbody>\n",
       "</table>\n",
       "</div>"
      ],
      "text/plain": [
       "                                               Lyric Genres\n",
       "0  i feel so unsure as i take your hand and lead ...    Pop\n",
       "1  dont let them fool ya or even try to school ya...    Pop\n",
       "2  baby lets cruise away from here dont be confus...    Pop\n",
       "3  know it sounds funny but i just cant stand the...    Pop\n",
       "4  youve got that look again the one i hoped i ha...    Pop\n",
       "5  looking out across the night time the city win...    Pop\n",
       "6  uh yeah go go go uh yeah uh uh uhh  hey hey i ...    Pop\n",
       "7  everyones feeling pretty its hotter than july ...    Pop\n",
       "8  saying i love you is not the words i want to h...    Pop\n",
       "9  been down in the valley smoking natural collie...    Pop"
      ]
     },
     "execution_count": 6,
     "metadata": {},
     "output_type": "execute_result"
    }
   ],
   "source": [
    "for i in range(len(df_merged)):\n",
    "    temp = df_merged.iloc[i,0]\n",
    "    temp = temp.replace(\"\\n\", \" \")\n",
    "    temp = temp.replace(\"\\t\", \" \")\n",
    "    temp = temp.translate(str.maketrans('', '', string.punctuation))\n",
    "    temp = temp.lower()\n",
    "    df_merged.iloc[i,0] = temp\n",
    "df_merged.head(10)"
   ]
  },
  {
   "cell_type": "markdown",
   "id": "1cc7f3f7",
   "metadata": {},
   "source": [
    "### Save shuffled data"
   ]
  },
  {
   "cell_type": "code",
   "execution_count": 7,
   "id": "3799537d",
   "metadata": {},
   "outputs": [
    {
     "data": {
      "text/html": [
       "<div>\n",
       "<style scoped>\n",
       "    .dataframe tbody tr th:only-of-type {\n",
       "        vertical-align: middle;\n",
       "    }\n",
       "\n",
       "    .dataframe tbody tr th {\n",
       "        vertical-align: top;\n",
       "    }\n",
       "\n",
       "    .dataframe thead th {\n",
       "        text-align: right;\n",
       "    }\n",
       "</style>\n",
       "<table border=\"1\" class=\"dataframe\">\n",
       "  <thead>\n",
       "    <tr style=\"text-align: right;\">\n",
       "      <th></th>\n",
       "      <th>Lyric</th>\n",
       "      <th>Genres</th>\n",
       "    </tr>\n",
       "  </thead>\n",
       "  <tbody>\n",
       "    <tr>\n",
       "      <th>0</th>\n",
       "      <td>i’m looking down into the eyes of hopelessness...</td>\n",
       "      <td>Rock; Pop/Rock</td>\n",
       "    </tr>\n",
       "    <tr>\n",
       "      <th>1</th>\n",
       "      <td>i met a magic man who had a daughter she learn...</td>\n",
       "      <td>Rock; Heavy Metal</td>\n",
       "    </tr>\n",
       "    <tr>\n",
       "      <th>2</th>\n",
       "      <td>gather round in groups were fading like the mi...</td>\n",
       "      <td>Rock</td>\n",
       "    </tr>\n",
       "    <tr>\n",
       "      <th>3</th>\n",
       "      <td>with silent feet my darling dreamer she steps ...</td>\n",
       "      <td>Rock</td>\n",
       "    </tr>\n",
       "    <tr>\n",
       "      <th>4</th>\n",
       "      <td>well when i walk when i walk on my horse upon ...</td>\n",
       "      <td>Rock; Pop/Rock</td>\n",
       "    </tr>\n",
       "    <tr>\n",
       "      <th>5</th>\n",
       "      <td>street choir sing me the song for the new day ...</td>\n",
       "      <td>Rock</td>\n",
       "    </tr>\n",
       "    <tr>\n",
       "      <th>6</th>\n",
       "      <td>days in darkness rolling by and how the years ...</td>\n",
       "      <td>Rock</td>\n",
       "    </tr>\n",
       "    <tr>\n",
       "      <th>7</th>\n",
       "      <td>i just want a lover like any other what do i g...</td>\n",
       "      <td>Rock</td>\n",
       "    </tr>\n",
       "    <tr>\n",
       "      <th>8</th>\n",
       "      <td>we got married in a fever hotter than a pepper...</td>\n",
       "      <td>Rock</td>\n",
       "    </tr>\n",
       "    <tr>\n",
       "      <th>9</th>\n",
       "      <td>when the day ends and church bells are ringing...</td>\n",
       "      <td>Rock; Pop</td>\n",
       "    </tr>\n",
       "  </tbody>\n",
       "</table>\n",
       "</div>"
      ],
      "text/plain": [
       "                                               Lyric             Genres\n",
       "0  i’m looking down into the eyes of hopelessness...     Rock; Pop/Rock\n",
       "1  i met a magic man who had a daughter she learn...  Rock; Heavy Metal\n",
       "2  gather round in groups were fading like the mi...               Rock\n",
       "3  with silent feet my darling dreamer she steps ...               Rock\n",
       "4  well when i walk when i walk on my horse upon ...     Rock; Pop/Rock\n",
       "5  street choir sing me the song for the new day ...               Rock\n",
       "6  days in darkness rolling by and how the years ...               Rock\n",
       "7  i just want a lover like any other what do i g...               Rock\n",
       "8  we got married in a fever hotter than a pepper...               Rock\n",
       "9  when the day ends and church bells are ringing...          Rock; Pop"
      ]
     },
     "execution_count": 7,
     "metadata": {},
     "output_type": "execute_result"
    }
   ],
   "source": [
    "df_merged.sample(frac = 1).to_csv('cleaned-data.csv', index = False)\n",
    "df = pd.read_csv('cleaned-data.csv')\n",
    "df.head(10)"
   ]
  },
  {
   "cell_type": "markdown",
   "id": "7f32abaa",
   "metadata": {},
   "source": [
    "## Statistics"
   ]
  },
  {
   "cell_type": "markdown",
   "id": "79f269fb",
   "metadata": {},
   "source": [
    "### Get average number of words in each Lyric"
   ]
  },
  {
   "cell_type": "code",
   "execution_count": 8,
   "id": "3a7a3335",
   "metadata": {},
   "outputs": [
    {
     "data": {
      "text/plain": [
       "265.8513184978057"
      ]
     },
     "execution_count": 8,
     "metadata": {},
     "output_type": "execute_result"
    }
   ],
   "source": [
    "s = 0\n",
    "c = 0\n",
    "\n",
    "for i in range(len(df_merged)):\n",
    "    s += len(df_merged.iloc[i,0].split())\n",
    "    c += 1\n",
    "\n",
    "s/c"
   ]
  },
  {
   "cell_type": "markdown",
   "id": "19d45caa",
   "metadata": {},
   "source": [
    "### Get number of different words in the lyrics"
   ]
  },
  {
   "cell_type": "code",
   "execution_count": 9,
   "id": "95602595",
   "metadata": {},
   "outputs": [
    {
     "data": {
      "text/plain": [
       "207633"
      ]
     },
     "execution_count": 9,
     "metadata": {},
     "output_type": "execute_result"
    }
   ],
   "source": [
    "words = []\n",
    "\n",
    "for i in range(len(df_merged)):\n",
    "    words += df_merged.iloc[i,0].split()\n",
    "\n",
    "len(set(words))"
   ]
  },
  {
   "cell_type": "markdown",
   "id": "7b2ad1a8",
   "metadata": {},
   "source": [
    "### Genre Distribution"
   ]
  },
  {
   "cell_type": "code",
   "execution_count": 10,
   "id": "5fa8dedf",
   "metadata": {},
   "outputs": [
    {
     "data": {
      "text/plain": [
       "<AxesSubplot:>"
      ]
     },
     "execution_count": 10,
     "metadata": {},
     "output_type": "execute_result"
    },
    {
     "data": {
      "image/png": "[encoded data removed]",
      "text/plain": [
       "<Figure size 432x288 with 1 Axes>"
      ]
     },
     "metadata": {
      "needs_background": "light"
     },
     "output_type": "display_data"
    }
   ],
   "source": [
    "indexNames = []\n",
    "for index, row in df.iterrows():\n",
    "    if len(row.Genres.split(\"; \"))>1:\n",
    "        indexNames.append(index)\n",
    "df = df.drop(indexNames)\n",
    "\n",
    "df['Genres'].value_counts().plot.bar()"
   ]
  }
 ],
 "metadata": {
  "kernelspec": {
   "display_name": "Python 3 (ipykernel)",
   "language": "python",
   "name": "python3"
  },
  "language_info": {
   "codemirror_mode": {
    "name": "ipython",
    "version": 3
   },
   "file_extension": ".py",
   "mimetype": "text/x-python",
   "name": "python",
   "nbconvert_exporter": "python",
   "pygments_lexer": "ipython3",
   "version": "3.8.10"
  }
 },
 "nbformat": 4,
 "nbformat_minor": 5
}
