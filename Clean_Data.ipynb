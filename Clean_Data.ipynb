{
 "cells": [
  {
   "cell_type": "code",
   "execution_count": null,
   "id": "751db749",
   "metadata": {},
   "outputs": [],
   "source": [
    "import pandas as pd\n",
    "import string"
   ]
  },
  {
   "cell_type": "code",
   "execution_count": null,
   "id": "92395adb",
   "metadata": {},
   "outputs": [],
   "source": [
    "df_artists = pd.read_csv('artists-data.csv')\n",
    "indexNames = []\n",
    "for index, row in df_artists.iterrows():\n",
    "    if type(row.Genres)!=str:\n",
    "        indexNames.append(index)\n",
    "df_artists = df_artists.drop(indexNames)\n",
    "df_artists.head(10)"
   ]
  },
  {
   "cell_type": "code",
   "execution_count": null,
   "id": "c16f2a3c",
   "metadata": {},
   "outputs": [],
   "source": [
    "df_lyrics = pd.read_csv('lyrics-data.csv')\n",
    "df_lyrics = df_lyrics.loc[lambda df: df['language'] == 'en']\n",
    "df_lyrics.head(10)"
   ]
  },
  {
   "cell_type": "code",
   "execution_count": null,
   "id": "f718313a",
   "metadata": {},
   "outputs": [],
   "source": [
    "df_merged = pd.merge(df_lyrics, df_artists, how='inner', left_on='ALink', right_on='Link')\n",
    "df_merged = df_merged.drop(['ALink','Link', \"SName\", \"SLink\", \"language\", \"Artist\", \"Songs\", \"Popularity\"], axis=1)\n",
    "df_merged.head(10)"
   ]
  },
  {
   "cell_type": "code",
   "execution_count": null,
   "id": "c37dbf03",
   "metadata": {},
   "outputs": [],
   "source": [
    "for i in range(len(df_merged)):\n",
    "    temp = df_merged.iloc[i,0]\n",
    "    temp = temp.replace(\"\\n\", \" \")\n",
    "    temp = temp.replace(\"\\t\", \" \")\n",
    "    temp = temp.translate(str.maketrans('', '', string.punctuation))\n",
    "    temp = temp.lower()\n",
    "    df_merged.iloc[i,0] = temp\n",
    "df_merged.head(10)"
   ]
  },
  {
   "cell_type": "code",
   "execution_count": null,
   "id": "3799537d",
   "metadata": {},
   "outputs": [],
   "source": [
    "df_merged.sample(frac = 1).to_csv('cleaned-data.csv', index = False)\n",
    "df = pd.read_csv('cleaned-data.csv')\n",
    "df.head(10)"
   ]
  },
  {
   "cell_type": "code",
   "execution_count": null,
   "id": "3a7a3335",
   "metadata": {},
   "outputs": [],
   "source": [
    "s = 0\n",
    "c = 0\n",
    "\n",
    "for i in range(len(df_merged)):\n",
    "    s += len(df_merged.iloc[i,0].split())\n",
    "    c += 1\n",
    "\n",
    "s/c"
   ]
  }
 ],
 "metadata": {
  "kernelspec": {
   "display_name": "Python 3 (ipykernel)",
   "language": "python",
   "name": "python3"
  },
  "language_info": {
   "codemirror_mode": {
    "name": "ipython",
    "version": 3
   },
   "file_extension": ".py",
   "mimetype": "text/x-python",
   "name": "python",
   "nbconvert_exporter": "python",
   "pygments_lexer": "ipython3",
   "version": "3.8.10"
  }
 },
 "nbformat": 4,
 "nbformat_minor": 5
}
